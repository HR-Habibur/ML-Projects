{
  "cells": [
    {
      "cell_type": "code",
      "metadata": {
        "ExecuteTime": {
          "end_time": "2024-08-08T07:39:50.627905Z",
          "start_time": "2024-08-08T07:39:50.612545Z"
        },
        "id": "0wxlPbDXMSkh"
      },
      "source": [
        "import numpy as np\n",
        "import pandas as pd\n",
        "import matplotlib.pyplot as plt\n",
        "import seaborn as sns"
      ],
      "outputs": [],
      "execution_count": null
    },
    {
      "cell_type": "code",
      "metadata": {
        "ExecuteTime": {
          "end_time": "2024-08-08T07:40:03.466Z",
          "start_time": "2024-08-08T07:40:02.804961Z"
        },
        "id": "l30pq8NdMSkm"
      },
      "source": [
        "from sklearn.model_selection import train_test_split\n",
        "from sklearn.compose import ColumnTransformer\n",
        "from sklearn.impute import SimpleImputer\n",
        "from sklearn.preprocessing import OneHotEncoder\n",
        "from sklearn.preprocessing import OrdinalEncoder\n",
        "from sklearn.pipeline import Pipeline,make_pipeline\n",
        "from sklearn.feature_selection import SelectKBest,chi2\n",
        "from sklearn.tree import DecisionTreeClassifier\n",
        "from sklearn.preprocessing import StandardScaler,MinMaxScaler\n",
        "from sklearn.metrics import accuracy_score\n",
        "from xgboost import XGBClassifier\n",
        "from sklearn.tree import DecisionTreeClassifier\n",
        "from sklearn.ensemble import RandomForestClassifier"
      ],
      "outputs": [],
      "execution_count": null
    },
    {
      "cell_type": "code",
      "metadata": {
        "ExecuteTime": {
          "end_time": "2024-08-08T07:40:03.497650Z",
          "start_time": "2024-08-08T07:40:03.466Z"
        },
        "id": "GQu8yUsiMSko"
      },
      "source": [
        "df = pd.read_csv('Titanic-Dataset.csv')"
      ],
      "outputs": [],
      "execution_count": null
    },
    {
      "cell_type": "code",
      "metadata": {
        "ExecuteTime": {
          "end_time": "2024-08-08T07:40:03.921004Z",
          "start_time": "2024-08-08T07:40:03.889561Z"
        },
        "id": "FVxOpLWtMSkq",
        "outputId": "e996e8e4-6dad-4d20-a010-633a25dc096b"
      },
      "source": [
        "df.head()"
      ],
      "outputs": [
        {
          "data": {
            "text/plain": [
              "   PassengerId  Survived  Pclass  \\\n",
              "0            1         0       3   \n",
              "1            2         1       1   \n",
              "2            3         1       3   \n",
              "3            4         1       1   \n",
              "4            5         0       3   \n",
              "\n",
              "                                                Name     Sex   Age  SibSp  \\\n",
              "0                            Braund, Mr. Owen Harris    male  22.0      1   \n",
              "1  Cumings, Mrs. John Bradley (Florence Briggs Th...  female  38.0      1   \n",
              "2                             Heikkinen, Miss. Laina  female  26.0      0   \n",
              "3       Futrelle, Mrs. Jacques Heath (Lily May Peel)  female  35.0      1   \n",
              "4                           Allen, Mr. William Henry    male  35.0      0   \n",
              "\n",
              "   Parch            Ticket     Fare Cabin Embarked  \n",
              "0      0         A/5 21171   7.2500   NaN        S  \n",
              "1      0          PC 17599  71.2833   C85        C  \n",
              "2      0  STON/O2. 3101282   7.9250   NaN        S  \n",
              "3      0            113803  53.1000  C123        S  \n",
              "4      0            373450   8.0500   NaN        S  "
            ],
            "text/html": [
              "<div>\n",
              "<style scoped>\n",
              "    .dataframe tbody tr th:only-of-type {\n",
              "        vertical-align: middle;\n",
              "    }\n",
              "\n",
              "    .dataframe tbody tr th {\n",
              "        vertical-align: top;\n",
              "    }\n",
              "\n",
              "    .dataframe thead th {\n",
              "        text-align: right;\n",
              "    }\n",
              "</style>\n",
              "<table border=\"1\" class=\"dataframe\">\n",
              "  <thead>\n",
              "    <tr style=\"text-align: right;\">\n",
              "      <th></th>\n",
              "      <th>PassengerId</th>\n",
              "      <th>Survived</th>\n",
              "      <th>Pclass</th>\n",
              "      <th>Name</th>\n",
              "      <th>Sex</th>\n",
              "      <th>Age</th>\n",
              "      <th>SibSp</th>\n",
              "      <th>Parch</th>\n",
              "      <th>Ticket</th>\n",
              "      <th>Fare</th>\n",
              "      <th>Cabin</th>\n",
              "      <th>Embarked</th>\n",
              "    </tr>\n",
              "  </thead>\n",
              "  <tbody>\n",
              "    <tr>\n",
              "      <th>0</th>\n",
              "      <td>1</td>\n",
              "      <td>0</td>\n",
              "      <td>3</td>\n",
              "      <td>Braund, Mr. Owen Harris</td>\n",
              "      <td>male</td>\n",
              "      <td>22.0</td>\n",
              "      <td>1</td>\n",
              "      <td>0</td>\n",
              "      <td>A/5 21171</td>\n",
              "      <td>7.2500</td>\n",
              "      <td>NaN</td>\n",
              "      <td>S</td>\n",
              "    </tr>\n",
              "    <tr>\n",
              "      <th>1</th>\n",
              "      <td>2</td>\n",
              "      <td>1</td>\n",
              "      <td>1</td>\n",
              "      <td>Cumings, Mrs. John Bradley (Florence Briggs Th...</td>\n",
              "      <td>female</td>\n",
              "      <td>38.0</td>\n",
              "      <td>1</td>\n",
              "      <td>0</td>\n",
              "      <td>PC 17599</td>\n",
              "      <td>71.2833</td>\n",
              "      <td>C85</td>\n",
              "      <td>C</td>\n",
              "    </tr>\n",
              "    <tr>\n",
              "      <th>2</th>\n",
              "      <td>3</td>\n",
              "      <td>1</td>\n",
              "      <td>3</td>\n",
              "      <td>Heikkinen, Miss. Laina</td>\n",
              "      <td>female</td>\n",
              "      <td>26.0</td>\n",
              "      <td>0</td>\n",
              "      <td>0</td>\n",
              "      <td>STON/O2. 3101282</td>\n",
              "      <td>7.9250</td>\n",
              "      <td>NaN</td>\n",
              "      <td>S</td>\n",
              "    </tr>\n",
              "    <tr>\n",
              "      <th>3</th>\n",
              "      <td>4</td>\n",
              "      <td>1</td>\n",
              "      <td>1</td>\n",
              "      <td>Futrelle, Mrs. Jacques Heath (Lily May Peel)</td>\n",
              "      <td>female</td>\n",
              "      <td>35.0</td>\n",
              "      <td>1</td>\n",
              "      <td>0</td>\n",
              "      <td>113803</td>\n",
              "      <td>53.1000</td>\n",
              "      <td>C123</td>\n",
              "      <td>S</td>\n",
              "    </tr>\n",
              "    <tr>\n",
              "      <th>4</th>\n",
              "      <td>5</td>\n",
              "      <td>0</td>\n",
              "      <td>3</td>\n",
              "      <td>Allen, Mr. William Henry</td>\n",
              "      <td>male</td>\n",
              "      <td>35.0</td>\n",
              "      <td>0</td>\n",
              "      <td>0</td>\n",
              "      <td>373450</td>\n",
              "      <td>8.0500</td>\n",
              "      <td>NaN</td>\n",
              "      <td>S</td>\n",
              "    </tr>\n",
              "  </tbody>\n",
              "</table>\n",
              "</div>"
            ]
          },
          "execution_count": 4,
          "metadata": {},
          "output_type": "execute_result"
        }
      ],
      "execution_count": null
    },
    {
      "metadata": {
        "ExecuteTime": {
          "end_time": "2024-08-08T07:40:04.079489Z",
          "start_time": "2024-08-08T07:40:04.060467Z"
        },
        "id": "jzsPrU9CMSks",
        "outputId": "4f7094c1-18a2-4973-d5c9-aa998b538f2b"
      },
      "cell_type": "code",
      "source": [
        "df.sample(20)"
      ],
      "outputs": [
        {
          "data": {
            "text/plain": [
              "     PassengerId  Survived  Pclass                                      Name  \\\n",
              "510          511         1       3                  Daly, Mr. Eugene Patrick   \n",
              "64            65         0       1                     Stewart, Mr. Albert A   \n",
              "626          627         0       2            Kirkland, Rev. Charles Leonard   \n",
              "442          443         0       3                 Petterson, Mr. Johan Emil   \n",
              "145          146         0       2              Nicholls, Mr. Joseph Charles   \n",
              "409          410         0       3                        Lefebre, Miss. Ida   \n",
              "889          890         1       1                     Behr, Mr. Karl Howell   \n",
              "535          536         1       2                    Hart, Miss. Eva Miriam   \n",
              "462          463         0       1                         Gee, Mr. Arthur H   \n",
              "452          453         0       1           Foreman, Mr. Benjamin Laventall   \n",
              "884          885         0       3                    Sutehall, Mr. Henry Jr   \n",
              "587          588         1       1          Frolicher-Stehli, Mr. Maxmillian   \n",
              "118          119         0       1                  Baxter, Mr. Quigg Edmond   \n",
              "20            21         0       2                      Fynney, Mr. Joseph J   \n",
              "699          700         0       3  Humblen, Mr. Adolf Mathias Nicolai Olsen   \n",
              "643          644         1       3                           Foo, Mr. Choong   \n",
              "620          621         0       3                       Yasbeck, Mr. Antoni   \n",
              "861          862         0       2               Giles, Mr. Frederick Edward   \n",
              "768          769         0       3                       Moran, Mr. Daniel J   \n",
              "769          770         0       3          Gronnestad, Mr. Daniel Danielsen   \n",
              "\n",
              "        Sex   Age  SibSp  Parch           Ticket      Fare    Cabin Embarked  \n",
              "510    male  29.0      0      0           382651    7.7500      NaN        Q  \n",
              "64     male   NaN      0      0         PC 17605   27.7208      NaN        C  \n",
              "626    male  57.0      0      0           219533   12.3500      NaN        Q  \n",
              "442    male  25.0      1      0           347076    7.7750      NaN        S  \n",
              "145    male  19.0      1      1       C.A. 33112   36.7500      NaN        S  \n",
              "409  female   NaN      3      1             4133   25.4667      NaN        S  \n",
              "889    male  26.0      0      0           111369   30.0000     C148        C  \n",
              "535  female   7.0      0      2     F.C.C. 13529   26.2500      NaN        S  \n",
              "462    male  47.0      0      0           111320   38.5000      E63        S  \n",
              "452    male  30.0      0      0           113051   27.7500     C111        C  \n",
              "884    male  25.0      0      0  SOTON/OQ 392076    7.0500      NaN        S  \n",
              "587    male  60.0      1      1            13567   79.2000      B41        C  \n",
              "118    male  24.0      0      1         PC 17558  247.5208  B58 B60        C  \n",
              "20     male  35.0      0      0           239865   26.0000      NaN        S  \n",
              "699    male  42.0      0      0           348121    7.6500    F G63        S  \n",
              "643    male   NaN      0      0             1601   56.4958      NaN        S  \n",
              "620    male  27.0      1      0             2659   14.4542      NaN        C  \n",
              "861    male  21.0      1      0            28134   11.5000      NaN        S  \n",
              "768    male   NaN      1      0           371110   24.1500      NaN        Q  \n",
              "769    male  32.0      0      0             8471    8.3625      NaN        S  "
            ],
            "text/html": [
              "<div>\n",
              "<style scoped>\n",
              "    .dataframe tbody tr th:only-of-type {\n",
              "        vertical-align: middle;\n",
              "    }\n",
              "\n",
              "    .dataframe tbody tr th {\n",
              "        vertical-align: top;\n",
              "    }\n",
              "\n",
              "    .dataframe thead th {\n",
              "        text-align: right;\n",
              "    }\n",
              "</style>\n",
              "<table border=\"1\" class=\"dataframe\">\n",
              "  <thead>\n",
              "    <tr style=\"text-align: right;\">\n",
              "      <th></th>\n",
              "      <th>PassengerId</th>\n",
              "      <th>Survived</th>\n",
              "      <th>Pclass</th>\n",
              "      <th>Name</th>\n",
              "      <th>Sex</th>\n",
              "      <th>Age</th>\n",
              "      <th>SibSp</th>\n",
              "      <th>Parch</th>\n",
              "      <th>Ticket</th>\n",
              "      <th>Fare</th>\n",
              "      <th>Cabin</th>\n",
              "      <th>Embarked</th>\n",
              "    </tr>\n",
              "  </thead>\n",
              "  <tbody>\n",
              "    <tr>\n",
              "      <th>510</th>\n",
              "      <td>511</td>\n",
              "      <td>1</td>\n",
              "      <td>3</td>\n",
              "      <td>Daly, Mr. Eugene Patrick</td>\n",
              "      <td>male</td>\n",
              "      <td>29.0</td>\n",
              "      <td>0</td>\n",
              "      <td>0</td>\n",
              "      <td>382651</td>\n",
              "      <td>7.7500</td>\n",
              "      <td>NaN</td>\n",
              "      <td>Q</td>\n",
              "    </tr>\n",
              "    <tr>\n",
              "      <th>64</th>\n",
              "      <td>65</td>\n",
              "      <td>0</td>\n",
              "      <td>1</td>\n",
              "      <td>Stewart, Mr. Albert A</td>\n",
              "      <td>male</td>\n",
              "      <td>NaN</td>\n",
              "      <td>0</td>\n",
              "      <td>0</td>\n",
              "      <td>PC 17605</td>\n",
              "      <td>27.7208</td>\n",
              "      <td>NaN</td>\n",
              "      <td>C</td>\n",
              "    </tr>\n",
              "    <tr>\n",
              "      <th>626</th>\n",
              "      <td>627</td>\n",
              "      <td>0</td>\n",
              "      <td>2</td>\n",
              "      <td>Kirkland, Rev. Charles Leonard</td>\n",
              "      <td>male</td>\n",
              "      <td>57.0</td>\n",
              "      <td>0</td>\n",
              "      <td>0</td>\n",
              "      <td>219533</td>\n",
              "      <td>12.3500</td>\n",
              "      <td>NaN</td>\n",
              "      <td>Q</td>\n",
              "    </tr>\n",
              "    <tr>\n",
              "      <th>442</th>\n",
              "      <td>443</td>\n",
              "      <td>0</td>\n",
              "      <td>3</td>\n",
              "      <td>Petterson, Mr. Johan Emil</td>\n",
              "      <td>male</td>\n",
              "      <td>25.0</td>\n",
              "      <td>1</td>\n",
              "      <td>0</td>\n",
              "      <td>347076</td>\n",
              "      <td>7.7750</td>\n",
              "      <td>NaN</td>\n",
              "      <td>S</td>\n",
              "    </tr>\n",
              "    <tr>\n",
              "      <th>145</th>\n",
              "      <td>146</td>\n",
              "      <td>0</td>\n",
              "      <td>2</td>\n",
              "      <td>Nicholls, Mr. Joseph Charles</td>\n",
              "      <td>male</td>\n",
              "      <td>19.0</td>\n",
              "      <td>1</td>\n",
              "      <td>1</td>\n",
              "      <td>C.A. 33112</td>\n",
              "      <td>36.7500</td>\n",
              "      <td>NaN</td>\n",
              "      <td>S</td>\n",
              "    </tr>\n",
              "    <tr>\n",
              "      <th>409</th>\n",
              "      <td>410</td>\n",
              "      <td>0</td>\n",
              "      <td>3</td>\n",
              "      <td>Lefebre, Miss. Ida</td>\n",
              "      <td>female</td>\n",
              "      <td>NaN</td>\n",
              "      <td>3</td>\n",
              "      <td>1</td>\n",
              "      <td>4133</td>\n",
              "      <td>25.4667</td>\n",
              "      <td>NaN</td>\n",
              "      <td>S</td>\n",
              "    </tr>\n",
              "    <tr>\n",
              "      <th>889</th>\n",
              "      <td>890</td>\n",
              "      <td>1</td>\n",
              "      <td>1</td>\n",
              "      <td>Behr, Mr. Karl Howell</td>\n",
              "      <td>male</td>\n",
              "      <td>26.0</td>\n",
              "      <td>0</td>\n",
              "      <td>0</td>\n",
              "      <td>111369</td>\n",
              "      <td>30.0000</td>\n",
              "      <td>C148</td>\n",
              "      <td>C</td>\n",
              "    </tr>\n",
              "    <tr>\n",
              "      <th>535</th>\n",
              "      <td>536</td>\n",
              "      <td>1</td>\n",
              "      <td>2</td>\n",
              "      <td>Hart, Miss. Eva Miriam</td>\n",
              "      <td>female</td>\n",
              "      <td>7.0</td>\n",
              "      <td>0</td>\n",
              "      <td>2</td>\n",
              "      <td>F.C.C. 13529</td>\n",
              "      <td>26.2500</td>\n",
              "      <td>NaN</td>\n",
              "      <td>S</td>\n",
              "    </tr>\n",
              "    <tr>\n",
              "      <th>462</th>\n",
              "      <td>463</td>\n",
              "      <td>0</td>\n",
              "      <td>1</td>\n",
              "      <td>Gee, Mr. Arthur H</td>\n",
              "      <td>male</td>\n",
              "      <td>47.0</td>\n",
              "      <td>0</td>\n",
              "      <td>0</td>\n",
              "      <td>111320</td>\n",
              "      <td>38.5000</td>\n",
              "      <td>E63</td>\n",
              "      <td>S</td>\n",
              "    </tr>\n",
              "    <tr>\n",
              "      <th>452</th>\n",
              "      <td>453</td>\n",
              "      <td>0</td>\n",
              "      <td>1</td>\n",
              "      <td>Foreman, Mr. Benjamin Laventall</td>\n",
              "      <td>male</td>\n",
              "      <td>30.0</td>\n",
              "      <td>0</td>\n",
              "      <td>0</td>\n",
              "      <td>113051</td>\n",
              "      <td>27.7500</td>\n",
              "      <td>C111</td>\n",
              "      <td>C</td>\n",
              "    </tr>\n",
              "    <tr>\n",
              "      <th>884</th>\n",
              "      <td>885</td>\n",
              "      <td>0</td>\n",
              "      <td>3</td>\n",
              "      <td>Sutehall, Mr. Henry Jr</td>\n",
              "      <td>male</td>\n",
              "      <td>25.0</td>\n",
              "      <td>0</td>\n",
              "      <td>0</td>\n",
              "      <td>SOTON/OQ 392076</td>\n",
              "      <td>7.0500</td>\n",
              "      <td>NaN</td>\n",
              "      <td>S</td>\n",
              "    </tr>\n",
              "    <tr>\n",
              "      <th>587</th>\n",
              "      <td>588</td>\n",
              "      <td>1</td>\n",
              "      <td>1</td>\n",
              "      <td>Frolicher-Stehli, Mr. Maxmillian</td>\n",
              "      <td>male</td>\n",
              "      <td>60.0</td>\n",
              "      <td>1</td>\n",
              "      <td>1</td>\n",
              "      <td>13567</td>\n",
              "      <td>79.2000</td>\n",
              "      <td>B41</td>\n",
              "      <td>C</td>\n",
              "    </tr>\n",
              "    <tr>\n",
              "      <th>118</th>\n",
              "      <td>119</td>\n",
              "      <td>0</td>\n",
              "      <td>1</td>\n",
              "      <td>Baxter, Mr. Quigg Edmond</td>\n",
              "      <td>male</td>\n",
              "      <td>24.0</td>\n",
              "      <td>0</td>\n",
              "      <td>1</td>\n",
              "      <td>PC 17558</td>\n",
              "      <td>247.5208</td>\n",
              "      <td>B58 B60</td>\n",
              "      <td>C</td>\n",
              "    </tr>\n",
              "    <tr>\n",
              "      <th>20</th>\n",
              "      <td>21</td>\n",
              "      <td>0</td>\n",
              "      <td>2</td>\n",
              "      <td>Fynney, Mr. Joseph J</td>\n",
              "      <td>male</td>\n",
              "      <td>35.0</td>\n",
              "      <td>0</td>\n",
              "      <td>0</td>\n",
              "      <td>239865</td>\n",
              "      <td>26.0000</td>\n",
              "      <td>NaN</td>\n",
              "      <td>S</td>\n",
              "    </tr>\n",
              "    <tr>\n",
              "      <th>699</th>\n",
              "      <td>700</td>\n",
              "      <td>0</td>\n",
              "      <td>3</td>\n",
              "      <td>Humblen, Mr. Adolf Mathias Nicolai Olsen</td>\n",
              "      <td>male</td>\n",
              "      <td>42.0</td>\n",
              "      <td>0</td>\n",
              "      <td>0</td>\n",
              "      <td>348121</td>\n",
              "      <td>7.6500</td>\n",
              "      <td>F G63</td>\n",
              "      <td>S</td>\n",
              "    </tr>\n",
              "    <tr>\n",
              "      <th>643</th>\n",
              "      <td>644</td>\n",
              "      <td>1</td>\n",
              "      <td>3</td>\n",
              "      <td>Foo, Mr. Choong</td>\n",
              "      <td>male</td>\n",
              "      <td>NaN</td>\n",
              "      <td>0</td>\n",
              "      <td>0</td>\n",
              "      <td>1601</td>\n",
              "      <td>56.4958</td>\n",
              "      <td>NaN</td>\n",
              "      <td>S</td>\n",
              "    </tr>\n",
              "    <tr>\n",
              "      <th>620</th>\n",
              "      <td>621</td>\n",
              "      <td>0</td>\n",
              "      <td>3</td>\n",
              "      <td>Yasbeck, Mr. Antoni</td>\n",
              "      <td>male</td>\n",
              "      <td>27.0</td>\n",
              "      <td>1</td>\n",
              "      <td>0</td>\n",
              "      <td>2659</td>\n",
              "      <td>14.4542</td>\n",
              "      <td>NaN</td>\n",
              "      <td>C</td>\n",
              "    </tr>\n",
              "    <tr>\n",
              "      <th>861</th>\n",
              "      <td>862</td>\n",
              "      <td>0</td>\n",
              "      <td>2</td>\n",
              "      <td>Giles, Mr. Frederick Edward</td>\n",
              "      <td>male</td>\n",
              "      <td>21.0</td>\n",
              "      <td>1</td>\n",
              "      <td>0</td>\n",
              "      <td>28134</td>\n",
              "      <td>11.5000</td>\n",
              "      <td>NaN</td>\n",
              "      <td>S</td>\n",
              "    </tr>\n",
              "    <tr>\n",
              "      <th>768</th>\n",
              "      <td>769</td>\n",
              "      <td>0</td>\n",
              "      <td>3</td>\n",
              "      <td>Moran, Mr. Daniel J</td>\n",
              "      <td>male</td>\n",
              "      <td>NaN</td>\n",
              "      <td>1</td>\n",
              "      <td>0</td>\n",
              "      <td>371110</td>\n",
              "      <td>24.1500</td>\n",
              "      <td>NaN</td>\n",
              "      <td>Q</td>\n",
              "    </tr>\n",
              "    <tr>\n",
              "      <th>769</th>\n",
              "      <td>770</td>\n",
              "      <td>0</td>\n",
              "      <td>3</td>\n",
              "      <td>Gronnestad, Mr. Daniel Danielsen</td>\n",
              "      <td>male</td>\n",
              "      <td>32.0</td>\n",
              "      <td>0</td>\n",
              "      <td>0</td>\n",
              "      <td>8471</td>\n",
              "      <td>8.3625</td>\n",
              "      <td>NaN</td>\n",
              "      <td>S</td>\n",
              "    </tr>\n",
              "  </tbody>\n",
              "</table>\n",
              "</div>"
            ]
          },
          "execution_count": 5,
          "metadata": {},
          "output_type": "execute_result"
        }
      ],
      "execution_count": null
    },
    {
      "cell_type": "code",
      "metadata": {
        "ExecuteTime": {
          "end_time": "2024-08-08T07:40:04.380454Z",
          "start_time": "2024-08-08T07:40:04.364551Z"
        },
        "id": "XWxsJ5kTMSkt"
      },
      "source": [
        "df.drop(columns=['PassengerId','Name','Ticket'],inplace=True)"
      ],
      "outputs": [],
      "execution_count": null
    },
    {
      "metadata": {
        "ExecuteTime": {
          "end_time": "2024-08-08T07:40:04.701958Z",
          "start_time": "2024-08-08T07:40:04.685945Z"
        },
        "id": "BGxG_vMIMSku",
        "outputId": "150cf898-0572-4ae9-d71f-8e2d3f0a0583"
      },
      "cell_type": "code",
      "source": [
        "print(df.isnull().sum())"
      ],
      "outputs": [
        {
          "name": "stdout",
          "output_type": "stream",
          "text": [
            "Survived      0\n",
            "Pclass        0\n",
            "Sex           0\n",
            "Age         177\n",
            "SibSp         0\n",
            "Parch         0\n",
            "Fare          0\n",
            "Cabin       687\n",
            "Embarked      2\n",
            "dtype: int64\n"
          ]
        }
      ],
      "execution_count": null
    },
    {
      "metadata": {
        "ExecuteTime": {
          "end_time": "2024-08-08T07:40:04.998556Z",
          "start_time": "2024-08-08T07:40:04.973357Z"
        },
        "id": "xfK5FpD-MSkv",
        "outputId": "0b9374d3-627f-4e6f-f1ec-7c0d66f40d2b"
      },
      "cell_type": "code",
      "source": [
        "df.describe()"
      ],
      "outputs": [
        {
          "data": {
            "text/plain": [
              "         Survived      Pclass         Age       SibSp       Parch        Fare\n",
              "count  891.000000  891.000000  714.000000  891.000000  891.000000  891.000000\n",
              "mean     0.383838    2.308642   29.699118    0.523008    0.381594   32.204208\n",
              "std      0.486592    0.836071   14.526497    1.102743    0.806057   49.693429\n",
              "min      0.000000    1.000000    0.420000    0.000000    0.000000    0.000000\n",
              "25%      0.000000    2.000000   20.125000    0.000000    0.000000    7.910400\n",
              "50%      0.000000    3.000000   28.000000    0.000000    0.000000   14.454200\n",
              "75%      1.000000    3.000000   38.000000    1.000000    0.000000   31.000000\n",
              "max      1.000000    3.000000   80.000000    8.000000    6.000000  512.329200"
            ],
            "text/html": [
              "<div>\n",
              "<style scoped>\n",
              "    .dataframe tbody tr th:only-of-type {\n",
              "        vertical-align: middle;\n",
              "    }\n",
              "\n",
              "    .dataframe tbody tr th {\n",
              "        vertical-align: top;\n",
              "    }\n",
              "\n",
              "    .dataframe thead th {\n",
              "        text-align: right;\n",
              "    }\n",
              "</style>\n",
              "<table border=\"1\" class=\"dataframe\">\n",
              "  <thead>\n",
              "    <tr style=\"text-align: right;\">\n",
              "      <th></th>\n",
              "      <th>Survived</th>\n",
              "      <th>Pclass</th>\n",
              "      <th>Age</th>\n",
              "      <th>SibSp</th>\n",
              "      <th>Parch</th>\n",
              "      <th>Fare</th>\n",
              "    </tr>\n",
              "  </thead>\n",
              "  <tbody>\n",
              "    <tr>\n",
              "      <th>count</th>\n",
              "      <td>891.000000</td>\n",
              "      <td>891.000000</td>\n",
              "      <td>714.000000</td>\n",
              "      <td>891.000000</td>\n",
              "      <td>891.000000</td>\n",
              "      <td>891.000000</td>\n",
              "    </tr>\n",
              "    <tr>\n",
              "      <th>mean</th>\n",
              "      <td>0.383838</td>\n",
              "      <td>2.308642</td>\n",
              "      <td>29.699118</td>\n",
              "      <td>0.523008</td>\n",
              "      <td>0.381594</td>\n",
              "      <td>32.204208</td>\n",
              "    </tr>\n",
              "    <tr>\n",
              "      <th>std</th>\n",
              "      <td>0.486592</td>\n",
              "      <td>0.836071</td>\n",
              "      <td>14.526497</td>\n",
              "      <td>1.102743</td>\n",
              "      <td>0.806057</td>\n",
              "      <td>49.693429</td>\n",
              "    </tr>\n",
              "    <tr>\n",
              "      <th>min</th>\n",
              "      <td>0.000000</td>\n",
              "      <td>1.000000</td>\n",
              "      <td>0.420000</td>\n",
              "      <td>0.000000</td>\n",
              "      <td>0.000000</td>\n",
              "      <td>0.000000</td>\n",
              "    </tr>\n",
              "    <tr>\n",
              "      <th>25%</th>\n",
              "      <td>0.000000</td>\n",
              "      <td>2.000000</td>\n",
              "      <td>20.125000</td>\n",
              "      <td>0.000000</td>\n",
              "      <td>0.000000</td>\n",
              "      <td>7.910400</td>\n",
              "    </tr>\n",
              "    <tr>\n",
              "      <th>50%</th>\n",
              "      <td>0.000000</td>\n",
              "      <td>3.000000</td>\n",
              "      <td>28.000000</td>\n",
              "      <td>0.000000</td>\n",
              "      <td>0.000000</td>\n",
              "      <td>14.454200</td>\n",
              "    </tr>\n",
              "    <tr>\n",
              "      <th>75%</th>\n",
              "      <td>1.000000</td>\n",
              "      <td>3.000000</td>\n",
              "      <td>38.000000</td>\n",
              "      <td>1.000000</td>\n",
              "      <td>0.000000</td>\n",
              "      <td>31.000000</td>\n",
              "    </tr>\n",
              "    <tr>\n",
              "      <th>max</th>\n",
              "      <td>1.000000</td>\n",
              "      <td>3.000000</td>\n",
              "      <td>80.000000</td>\n",
              "      <td>8.000000</td>\n",
              "      <td>6.000000</td>\n",
              "      <td>512.329200</td>\n",
              "    </tr>\n",
              "  </tbody>\n",
              "</table>\n",
              "</div>"
            ]
          },
          "execution_count": 8,
          "metadata": {},
          "output_type": "execute_result"
        }
      ],
      "execution_count": null
    },
    {
      "metadata": {
        "ExecuteTime": {
          "end_time": "2024-08-08T07:40:05.314089Z",
          "start_time": "2024-08-08T07:40:05.298225Z"
        },
        "id": "gljFTFS4MSkw",
        "outputId": "6b4859b8-599e-4a94-962d-65ca6a4e6cc3"
      },
      "cell_type": "code",
      "source": [
        "df['Age'].fillna(df['Age'].median(), inplace=True)"
      ],
      "outputs": [
        {
          "name": "stderr",
          "output_type": "stream",
          "text": [
            "C:\\Users\\HP\\AppData\\Local\\Temp\\ipykernel_21740\\286566303.py:1: FutureWarning: A value is trying to be set on a copy of a DataFrame or Series through chained assignment using an inplace method.\n",
            "The behavior will change in pandas 3.0. This inplace method will never work because the intermediate object on which we are setting values always behaves as a copy.\n",
            "\n",
            "For example, when doing 'df[col].method(value, inplace=True)', try using 'df.method({col: value}, inplace=True)' or df[col] = df[col].method(value) instead, to perform the operation inplace on the original object.\n",
            "\n",
            "\n",
            "  df['Age'].fillna(df['Age'].median(), inplace=True)\n"
          ]
        }
      ],
      "execution_count": null
    },
    {
      "metadata": {
        "ExecuteTime": {
          "end_time": "2024-08-08T07:40:06.004174Z",
          "start_time": "2024-08-08T07:40:05.987661Z"
        },
        "id": "fXj2kp-BMSkx"
      },
      "cell_type": "code",
      "source": [
        "df['FamilySize'] = df['SibSp'] + df['Parch'] + 1"
      ],
      "outputs": [],
      "execution_count": null
    },
    {
      "metadata": {
        "ExecuteTime": {
          "end_time": "2024-08-08T07:40:06.454580Z",
          "start_time": "2024-08-08T07:40:06.438484Z"
        },
        "id": "PaGqf405MSky"
      },
      "cell_type": "code",
      "source": [
        "df['IsAlone'] = (df['FamilySize'] == 1).astype(int)"
      ],
      "outputs": [],
      "execution_count": null
    },
    {
      "metadata": {
        "ExecuteTime": {
          "end_time": "2024-08-08T07:40:06.772050Z",
          "start_time": "2024-08-08T07:40:06.740653Z"
        },
        "id": "Q9z__VZ3MSkz"
      },
      "cell_type": "code",
      "source": [
        "df['Cabin'] = df['Cabin'].apply(lambda x: x[0] if pd.notna(x) else 'U')"
      ],
      "outputs": [],
      "execution_count": null
    },
    {
      "metadata": {
        "ExecuteTime": {
          "end_time": "2024-08-08T07:40:06.996125Z",
          "start_time": "2024-08-08T07:40:06.980273Z"
        },
        "id": "a-DeKBviMSkz"
      },
      "cell_type": "code",
      "source": [
        "df['AgeBand'] = pd.cut(df['Age'], bins=[0, 16, 32, 48, 64, 80], labels=['Child', 'Young Adult', 'Adult', 'Middle-aged', 'Senior'])\n",
        "df['FareBand'] = pd.qcut(df['Fare'], 4, labels=['Low', 'Medium', 'High', 'Very High'])"
      ],
      "outputs": [],
      "execution_count": null
    },
    {
      "metadata": {
        "ExecuteTime": {
          "end_time": "2024-08-08T07:40:07.222762Z",
          "start_time": "2024-08-08T07:40:07.206825Z"
        },
        "id": "UCuGB1y1MSkz"
      },
      "cell_type": "code",
      "source": [
        "df['Pclass_Age'] = df['Pclass'].astype(str) + '_' + df['AgeBand'].astype(str)\n",
        "df['Pclass_Fare'] = df['Pclass'].astype(str) + '_' + df['FareBand'].astype(str)"
      ],
      "outputs": [],
      "execution_count": null
    },
    {
      "metadata": {
        "ExecuteTime": {
          "end_time": "2024-08-08T07:40:07.804014Z",
          "start_time": "2024-08-08T07:40:07.481441Z"
        },
        "id": "4YjPQR1HMSk0",
        "outputId": "9476e8b1-abf7-417d-fff7-02920a52c15f"
      },
      "cell_type": "code",
      "source": [
        "numeric_df = df.select_dtypes(include=['number'])\n",
        "corr_matrix = numeric_df.corr()\n",
        "sns.heatmap(corr_matrix, annot=True, cmap='coolwarm')\n",
        "plt.title('Correlation Heatmap')\n",
        "plt.show()"
      ],
      "outputs": [
        {
          "data": {
            "text/plain": [
              "<Figure size 432x288 with 2 Axes>"
            ],
            "image/png": "[encoded data removed]"
          },
          "metadata": {
            "needs_background": "light"
          },
          "output_type": "display_data"
        }
      ],
      "execution_count": null
    },
    {
      "metadata": {
        "ExecuteTime": {
          "end_time": "2024-08-08T07:40:07.946593Z",
          "start_time": "2024-08-08T07:40:07.930722Z"
        },
        "id": "3wY0ro2DMSk2",
        "outputId": "4e4c5a6e-bf71-4e0e-f5f3-b9223d54b7d4"
      },
      "cell_type": "code",
      "source": [
        "df.head(10)"
      ],
      "outputs": [
        {
          "data": {
            "text/plain": [
              "   Survived  Pclass     Sex   Age  SibSp  Parch     Fare Cabin Embarked  \\\n",
              "0         0       3    male  22.0      1      0   7.2500     U        S   \n",
              "1         1       1  female  38.0      1      0  71.2833     C        C   \n",
              "2         1       3  female  26.0      0      0   7.9250     U        S   \n",
              "3         1       1  female  35.0      1      0  53.1000     C        S   \n",
              "4         0       3    male  35.0      0      0   8.0500     U        S   \n",
              "5         0       3    male  28.0      0      0   8.4583     U        Q   \n",
              "6         0       1    male  54.0      0      0  51.8625     E        S   \n",
              "7         0       3    male   2.0      3      1  21.0750     U        S   \n",
              "8         1       3  female  27.0      0      2  11.1333     U        S   \n",
              "9         1       2  female  14.0      1      0  30.0708     U        C   \n",
              "\n",
              "   FamilySize  IsAlone      AgeBand   FareBand     Pclass_Age  Pclass_Fare  \n",
              "0           2        0  Young Adult        Low  3_Young Adult        3_Low  \n",
              "1           2        0        Adult  Very High        1_Adult  1_Very High  \n",
              "2           1        1  Young Adult     Medium  3_Young Adult     3_Medium  \n",
              "3           2        0        Adult  Very High        1_Adult  1_Very High  \n",
              "4           1        1        Adult     Medium        3_Adult     3_Medium  \n",
              "5           1        1  Young Adult     Medium  3_Young Adult     3_Medium  \n",
              "6           1        1  Middle-aged  Very High  1_Middle-aged  1_Very High  \n",
              "7           5        0        Child       High        3_Child       3_High  \n",
              "8           3        0  Young Adult     Medium  3_Young Adult     3_Medium  \n",
              "9           2        0        Child       High        2_Child       2_High  "
            ],
            "text/html": [
              "<div>\n",
              "<style scoped>\n",
              "    .dataframe tbody tr th:only-of-type {\n",
              "        vertical-align: middle;\n",
              "    }\n",
              "\n",
              "    .dataframe tbody tr th {\n",
              "        vertical-align: top;\n",
              "    }\n",
              "\n",
              "    .dataframe thead th {\n",
              "        text-align: right;\n",
              "    }\n",
              "</style>\n",
              "<table border=\"1\" class=\"dataframe\">\n",
              "  <thead>\n",
              "    <tr style=\"text-align: right;\">\n",
              "      <th></th>\n",
              "      <th>Survived</th>\n",
              "      <th>Pclass</th>\n",
              "      <th>Sex</th>\n",
              "      <th>Age</th>\n",
              "      <th>SibSp</th>\n",
              "      <th>Parch</th>\n",
              "      <th>Fare</th>\n",
              "      <th>Cabin</th>\n",
              "      <th>Embarked</th>\n",
              "      <th>FamilySize</th>\n",
              "      <th>IsAlone</th>\n",
              "      <th>AgeBand</th>\n",
              "      <th>FareBand</th>\n",
              "      <th>Pclass_Age</th>\n",
              "      <th>Pclass_Fare</th>\n",
              "    </tr>\n",
              "  </thead>\n",
              "  <tbody>\n",
              "    <tr>\n",
              "      <th>0</th>\n",
              "      <td>0</td>\n",
              "      <td>3</td>\n",
              "      <td>male</td>\n",
              "      <td>22.0</td>\n",
              "      <td>1</td>\n",
              "      <td>0</td>\n",
              "      <td>7.2500</td>\n",
              "      <td>U</td>\n",
              "      <td>S</td>\n",
              "      <td>2</td>\n",
              "      <td>0</td>\n",
              "      <td>Young Adult</td>\n",
              "      <td>Low</td>\n",
              "      <td>3_Young Adult</td>\n",
              "      <td>3_Low</td>\n",
              "    </tr>\n",
              "    <tr>\n",
              "      <th>1</th>\n",
              "      <td>1</td>\n",
              "      <td>1</td>\n",
              "      <td>female</td>\n",
              "      <td>38.0</td>\n",
              "      <td>1</td>\n",
              "      <td>0</td>\n",
              "      <td>71.2833</td>\n",
              "      <td>C</td>\n",
              "      <td>C</td>\n",
              "      <td>2</td>\n",
              "      <td>0</td>\n",
              "      <td>Adult</td>\n",
              "      <td>Very High</td>\n",
              "      <td>1_Adult</td>\n",
              "      <td>1_Very High</td>\n",
              "    </tr>\n",
              "    <tr>\n",
              "      <th>2</th>\n",
              "      <td>1</td>\n",
              "      <td>3</td>\n",
              "      <td>female</td>\n",
              "      <td>26.0</td>\n",
              "      <td>0</td>\n",
              "      <td>0</td>\n",
              "      <td>7.9250</td>\n",
              "      <td>U</td>\n",
              "      <td>S</td>\n",
              "      <td>1</td>\n",
              "      <td>1</td>\n",
              "      <td>Young Adult</td>\n",
              "      <td>Medium</td>\n",
              "      <td>3_Young Adult</td>\n",
              "      <td>3_Medium</td>\n",
              "    </tr>\n",
              "    <tr>\n",
              "      <th>3</th>\n",
              "      <td>1</td>\n",
              "      <td>1</td>\n",
              "      <td>female</td>\n",
              "      <td>35.0</td>\n",
              "      <td>1</td>\n",
              "      <td>0</td>\n",
              "      <td>53.1000</td>\n",
              "      <td>C</td>\n",
              "      <td>S</td>\n",
              "      <td>2</td>\n",
              "      <td>0</td>\n",
              "      <td>Adult</td>\n",
              "      <td>Very High</td>\n",
              "      <td>1_Adult</td>\n",
              "      <td>1_Very High</td>\n",
              "    </tr>\n",
              "    <tr>\n",
              "      <th>4</th>\n",
              "      <td>0</td>\n",
              "      <td>3</td>\n",
              "      <td>male</td>\n",
              "      <td>35.0</td>\n",
              "      <td>0</td>\n",
              "      <td>0</td>\n",
              "      <td>8.0500</td>\n",
              "      <td>U</td>\n",
              "      <td>S</td>\n",
              "      <td>1</td>\n",
              "      <td>1</td>\n",
              "      <td>Adult</td>\n",
              "      <td>Medium</td>\n",
              "      <td>3_Adult</td>\n",
              "      <td>3_Medium</td>\n",
              "    </tr>\n",
              "    <tr>\n",
              "      <th>5</th>\n",
              "      <td>0</td>\n",
              "      <td>3</td>\n",
              "      <td>male</td>\n",
              "      <td>28.0</td>\n",
              "      <td>0</td>\n",
              "      <td>0</td>\n",
              "      <td>8.4583</td>\n",
              "      <td>U</td>\n",
              "      <td>Q</td>\n",
              "      <td>1</td>\n",
              "      <td>1</td>\n",
              "      <td>Young Adult</td>\n",
              "      <td>Medium</td>\n",
              "      <td>3_Young Adult</td>\n",
              "      <td>3_Medium</td>\n",
              "    </tr>\n",
              "    <tr>\n",
              "      <th>6</th>\n",
              "      <td>0</td>\n",
              "      <td>1</td>\n",
              "      <td>male</td>\n",
              "      <td>54.0</td>\n",
              "      <td>0</td>\n",
              "      <td>0</td>\n",
              "      <td>51.8625</td>\n",
              "      <td>E</td>\n",
              "      <td>S</td>\n",
              "      <td>1</td>\n",
              "      <td>1</td>\n",
              "      <td>Middle-aged</td>\n",
              "      <td>Very High</td>\n",
              "      <td>1_Middle-aged</td>\n",
              "      <td>1_Very High</td>\n",
              "    </tr>\n",
              "    <tr>\n",
              "      <th>7</th>\n",
              "      <td>0</td>\n",
              "      <td>3</td>\n",
              "      <td>male</td>\n",
              "      <td>2.0</td>\n",
              "      <td>3</td>\n",
              "      <td>1</td>\n",
              "      <td>21.0750</td>\n",
              "      <td>U</td>\n",
              "      <td>S</td>\n",
              "      <td>5</td>\n",
              "      <td>0</td>\n",
              "      <td>Child</td>\n",
              "      <td>High</td>\n",
              "      <td>3_Child</td>\n",
              "      <td>3_High</td>\n",
              "    </tr>\n",
              "    <tr>\n",
              "      <th>8</th>\n",
              "      <td>1</td>\n",
              "      <td>3</td>\n",
              "      <td>female</td>\n",
              "      <td>27.0</td>\n",
              "      <td>0</td>\n",
              "      <td>2</td>\n",
              "      <td>11.1333</td>\n",
              "      <td>U</td>\n",
              "      <td>S</td>\n",
              "      <td>3</td>\n",
              "      <td>0</td>\n",
              "      <td>Young Adult</td>\n",
              "      <td>Medium</td>\n",
              "      <td>3_Young Adult</td>\n",
              "      <td>3_Medium</td>\n",
              "    </tr>\n",
              "    <tr>\n",
              "      <th>9</th>\n",
              "      <td>1</td>\n",
              "      <td>2</td>\n",
              "      <td>female</td>\n",
              "      <td>14.0</td>\n",
              "      <td>1</td>\n",
              "      <td>0</td>\n",
              "      <td>30.0708</td>\n",
              "      <td>U</td>\n",
              "      <td>C</td>\n",
              "      <td>2</td>\n",
              "      <td>0</td>\n",
              "      <td>Child</td>\n",
              "      <td>High</td>\n",
              "      <td>2_Child</td>\n",
              "      <td>2_High</td>\n",
              "    </tr>\n",
              "  </tbody>\n",
              "</table>\n",
              "</div>"
            ]
          },
          "execution_count": 16,
          "metadata": {},
          "output_type": "execute_result"
        }
      ],
      "execution_count": null
    },
    {
      "metadata": {
        "ExecuteTime": {
          "end_time": "2024-08-08T07:40:08.470013Z",
          "start_time": "2024-08-08T07:40:08.453977Z"
        },
        "id": "AP31255IMSk3"
      },
      "cell_type": "code",
      "source": [
        "scaler = StandardScaler()\n",
        "df[['Age', 'Fare']] = scaler.fit_transform(df[['Age', 'Fare']])"
      ],
      "outputs": [],
      "execution_count": null
    },
    {
      "cell_type": "code",
      "metadata": {
        "ExecuteTime": {
          "end_time": "2024-08-08T07:40:08.797135Z",
          "start_time": "2024-08-08T07:40:08.789406Z"
        },
        "id": "04DBCtgxMSk3"
      },
      "source": [
        "X_train,X_test,y_train,y_test = train_test_split(df.drop(columns=['Survived']),\n",
        "                                                 df['Survived'],\n",
        "                                                 test_size=0.2,\n",
        "                                                random_state=42)"
      ],
      "outputs": [],
      "execution_count": null
    },
    {
      "cell_type": "code",
      "metadata": {
        "ExecuteTime": {
          "end_time": "2024-08-08T07:40:09.091272Z",
          "start_time": "2024-08-08T07:40:09.076089Z"
        },
        "id": "Lkz7CN-oMSk3",
        "outputId": "e099f5bd-b368-4545-eaaa-9875991a1d4e"
      },
      "source": [
        "X_train.head()"
      ],
      "outputs": [
        {
          "data": {
            "text/plain": [
              "     Pclass     Sex       Age  SibSp  Parch      Fare Cabin Embarked  \\\n",
              "331       1    male  1.240235      0      0 -0.074583     C        S   \n",
              "733       2    male -0.488887      0      0 -0.386671     U        S   \n",
              "382       3    male  0.202762      0      0 -0.488854     U        S   \n",
              "704       3    male -0.258337      1      0 -0.490280     U        S   \n",
              "813       3  female -1.795334      4      2 -0.018709     U        S   \n",
              "\n",
              "     FamilySize  IsAlone      AgeBand   FareBand     Pclass_Age  Pclass_Fare  \n",
              "331           1        1        Adult       High        1_Adult       1_High  \n",
              "733           1        1  Young Adult     Medium  2_Young Adult     2_Medium  \n",
              "382           1        1  Young Adult     Medium  3_Young Adult     3_Medium  \n",
              "704           2        0  Young Adult        Low  3_Young Adult        3_Low  \n",
              "813           7        0        Child  Very High        3_Child  3_Very High  "
            ],
            "text/html": [
              "<div>\n",
              "<style scoped>\n",
              "    .dataframe tbody tr th:only-of-type {\n",
              "        vertical-align: middle;\n",
              "    }\n",
              "\n",
              "    .dataframe tbody tr th {\n",
              "        vertical-align: top;\n",
              "    }\n",
              "\n",
              "    .dataframe thead th {\n",
              "        text-align: right;\n",
              "    }\n",
              "</style>\n",
              "<table border=\"1\" class=\"dataframe\">\n",
              "  <thead>\n",
              "    <tr style=\"text-align: right;\">\n",
              "      <th></th>\n",
              "      <th>Pclass</th>\n",
              "      <th>Sex</th>\n",
              "      <th>Age</th>\n",
              "      <th>SibSp</th>\n",
              "      <th>Parch</th>\n",
              "      <th>Fare</th>\n",
              "      <th>Cabin</th>\n",
              "      <th>Embarked</th>\n",
              "      <th>FamilySize</th>\n",
              "      <th>IsAlone</th>\n",
              "      <th>AgeBand</th>\n",
              "      <th>FareBand</th>\n",
              "      <th>Pclass_Age</th>\n",
              "      <th>Pclass_Fare</th>\n",
              "    </tr>\n",
              "  </thead>\n",
              "  <tbody>\n",
              "    <tr>\n",
              "      <th>331</th>\n",
              "      <td>1</td>\n",
              "      <td>male</td>\n",
              "      <td>1.240235</td>\n",
              "      <td>0</td>\n",
              "      <td>0</td>\n",
              "      <td>-0.074583</td>\n",
              "      <td>C</td>\n",
              "      <td>S</td>\n",
              "      <td>1</td>\n",
              "      <td>1</td>\n",
              "      <td>Adult</td>\n",
              "      <td>High</td>\n",
              "      <td>1_Adult</td>\n",
              "      <td>1_High</td>\n",
              "    </tr>\n",
              "    <tr>\n",
              "      <th>733</th>\n",
              "      <td>2</td>\n",
              "      <td>male</td>\n",
              "      <td>-0.488887</td>\n",
              "      <td>0</td>\n",
              "      <td>0</td>\n",
              "      <td>-0.386671</td>\n",
              "      <td>U</td>\n",
              "      <td>S</td>\n",
              "      <td>1</td>\n",
              "      <td>1</td>\n",
              "      <td>Young Adult</td>\n",
              "      <td>Medium</td>\n",
              "      <td>2_Young Adult</td>\n",
              "      <td>2_Medium</td>\n",
              "    </tr>\n",
              "    <tr>\n",
              "      <th>382</th>\n",
              "      <td>3</td>\n",
              "      <td>male</td>\n",
              "      <td>0.202762</td>\n",
              "      <td>0</td>\n",
              "      <td>0</td>\n",
              "      <td>-0.488854</td>\n",
              "      <td>U</td>\n",
              "      <td>S</td>\n",
              "      <td>1</td>\n",
              "      <td>1</td>\n",
              "      <td>Young Adult</td>\n",
              "      <td>Medium</td>\n",
              "      <td>3_Young Adult</td>\n",
              "      <td>3_Medium</td>\n",
              "    </tr>\n",
              "    <tr>\n",
              "      <th>704</th>\n",
              "      <td>3</td>\n",
              "      <td>male</td>\n",
              "      <td>-0.258337</td>\n",
              "      <td>1</td>\n",
              "      <td>0</td>\n",
              "      <td>-0.490280</td>\n",
              "      <td>U</td>\n",
              "      <td>S</td>\n",
              "      <td>2</td>\n",
              "      <td>0</td>\n",
              "      <td>Young Adult</td>\n",
              "      <td>Low</td>\n",
              "      <td>3_Young Adult</td>\n",
              "      <td>3_Low</td>\n",
              "    </tr>\n",
              "    <tr>\n",
              "      <th>813</th>\n",
              "      <td>3</td>\n",
              "      <td>female</td>\n",
              "      <td>-1.795334</td>\n",
              "      <td>4</td>\n",
              "      <td>2</td>\n",
              "      <td>-0.018709</td>\n",
              "      <td>U</td>\n",
              "      <td>S</td>\n",
              "      <td>7</td>\n",
              "      <td>0</td>\n",
              "      <td>Child</td>\n",
              "      <td>Very High</td>\n",
              "      <td>3_Child</td>\n",
              "      <td>3_Very High</td>\n",
              "    </tr>\n",
              "  </tbody>\n",
              "</table>\n",
              "</div>"
            ]
          },
          "execution_count": 19,
          "metadata": {},
          "output_type": "execute_result"
        }
      ],
      "execution_count": null
    },
    {
      "cell_type": "code",
      "metadata": {
        "ExecuteTime": {
          "end_time": "2024-08-08T07:40:09.490544Z",
          "start_time": "2024-08-08T07:40:09.475651Z"
        },
        "id": "Hta7CMm3MSk4",
        "outputId": "76d3a114-b083-4aca-e58e-693dd98e6287"
      },
      "source": [
        "y_train.sample(5)"
      ],
      "outputs": [
        {
          "data": {
            "text/plain": [
              "801    1\n",
              "639    0\n",
              "430    1\n",
              "241    1\n",
              "567    0\n",
              "Name: Survived, dtype: int64"
            ]
          },
          "execution_count": 20,
          "metadata": {},
          "output_type": "execute_result"
        }
      ],
      "execution_count": null
    },
    {
      "metadata": {
        "ExecuteTime": {
          "end_time": "2024-08-08T07:40:10.404477Z",
          "start_time": "2024-08-08T07:40:10.388590Z"
        },
        "id": "bnJ6L3jsMSk5",
        "outputId": "44f4f63f-dbdf-4d7e-9b4c-b9af8e654370"
      },
      "cell_type": "code",
      "source": [
        "column_list = list(df.columns)\n",
        "print(column_list)\n"
      ],
      "outputs": [
        {
          "name": "stdout",
          "output_type": "stream",
          "text": [
            "['Survived', 'Pclass', 'Sex', 'Age', 'SibSp', 'Parch', 'Fare', 'Cabin', 'Embarked', 'FamilySize', 'IsAlone', 'AgeBand', 'FareBand', 'Pclass_Age', 'Pclass_Fare']\n"
          ]
        }
      ],
      "execution_count": null
    },
    {
      "metadata": {
        "ExecuteTime": {
          "end_time": "2024-08-08T07:40:10.936838Z",
          "start_time": "2024-08-08T07:40:10.910979Z"
        },
        "id": "wEbfei0vMSk6",
        "outputId": "4db1b10f-fb37-4a07-d484-f4e75b13e7c9"
      },
      "cell_type": "code",
      "source": [
        "df.head()"
      ],
      "outputs": [
        {
          "data": {
            "text/plain": [
              "   Survived  Pclass     Sex       Age  SibSp  Parch      Fare Cabin Embarked  \\\n",
              "0         0       3    male -0.565736      1      0 -0.502445     U        S   \n",
              "1         1       1  female  0.663861      1      0  0.786845     C        C   \n",
              "2         1       3  female -0.258337      0      0 -0.488854     U        S   \n",
              "3         1       1  female  0.433312      1      0  0.420730     C        S   \n",
              "4         0       3    male  0.433312      0      0 -0.486337     U        S   \n",
              "\n",
              "   FamilySize  IsAlone      AgeBand   FareBand     Pclass_Age  Pclass_Fare  \n",
              "0           2        0  Young Adult        Low  3_Young Adult        3_Low  \n",
              "1           2        0        Adult  Very High        1_Adult  1_Very High  \n",
              "2           1        1  Young Adult     Medium  3_Young Adult     3_Medium  \n",
              "3           2        0        Adult  Very High        1_Adult  1_Very High  \n",
              "4           1        1        Adult     Medium        3_Adult     3_Medium  "
            ],
            "text/html": [
              "<div>\n",
              "<style scoped>\n",
              "    .dataframe tbody tr th:only-of-type {\n",
              "        vertical-align: middle;\n",
              "    }\n",
              "\n",
              "    .dataframe tbody tr th {\n",
              "        vertical-align: top;\n",
              "    }\n",
              "\n",
              "    .dataframe thead th {\n",
              "        text-align: right;\n",
              "    }\n",
              "</style>\n",
              "<table border=\"1\" class=\"dataframe\">\n",
              "  <thead>\n",
              "    <tr style=\"text-align: right;\">\n",
              "      <th></th>\n",
              "      <th>Survived</th>\n",
              "      <th>Pclass</th>\n",
              "      <th>Sex</th>\n",
              "      <th>Age</th>\n",
              "      <th>SibSp</th>\n",
              "      <th>Parch</th>\n",
              "      <th>Fare</th>\n",
              "      <th>Cabin</th>\n",
              "      <th>Embarked</th>\n",
              "      <th>FamilySize</th>\n",
              "      <th>IsAlone</th>\n",
              "      <th>AgeBand</th>\n",
              "      <th>FareBand</th>\n",
              "      <th>Pclass_Age</th>\n",
              "      <th>Pclass_Fare</th>\n",
              "    </tr>\n",
              "  </thead>\n",
              "  <tbody>\n",
              "    <tr>\n",
              "      <th>0</th>\n",
              "      <td>0</td>\n",
              "      <td>3</td>\n",
              "      <td>male</td>\n",
              "      <td>-0.565736</td>\n",
              "      <td>1</td>\n",
              "      <td>0</td>\n",
              "      <td>-0.502445</td>\n",
              "      <td>U</td>\n",
              "      <td>S</td>\n",
              "      <td>2</td>\n",
              "      <td>0</td>\n",
              "      <td>Young Adult</td>\n",
              "      <td>Low</td>\n",
              "      <td>3_Young Adult</td>\n",
              "      <td>3_Low</td>\n",
              "    </tr>\n",
              "    <tr>\n",
              "      <th>1</th>\n",
              "      <td>1</td>\n",
              "      <td>1</td>\n",
              "      <td>female</td>\n",
              "      <td>0.663861</td>\n",
              "      <td>1</td>\n",
              "      <td>0</td>\n",
              "      <td>0.786845</td>\n",
              "      <td>C</td>\n",
              "      <td>C</td>\n",
              "      <td>2</td>\n",
              "      <td>0</td>\n",
              "      <td>Adult</td>\n",
              "      <td>Very High</td>\n",
              "      <td>1_Adult</td>\n",
              "      <td>1_Very High</td>\n",
              "    </tr>\n",
              "    <tr>\n",
              "      <th>2</th>\n",
              "      <td>1</td>\n",
              "      <td>3</td>\n",
              "      <td>female</td>\n",
              "      <td>-0.258337</td>\n",
              "      <td>0</td>\n",
              "      <td>0</td>\n",
              "      <td>-0.488854</td>\n",
              "      <td>U</td>\n",
              "      <td>S</td>\n",
              "      <td>1</td>\n",
              "      <td>1</td>\n",
              "      <td>Young Adult</td>\n",
              "      <td>Medium</td>\n",
              "      <td>3_Young Adult</td>\n",
              "      <td>3_Medium</td>\n",
              "    </tr>\n",
              "    <tr>\n",
              "      <th>3</th>\n",
              "      <td>1</td>\n",
              "      <td>1</td>\n",
              "      <td>female</td>\n",
              "      <td>0.433312</td>\n",
              "      <td>1</td>\n",
              "      <td>0</td>\n",
              "      <td>0.420730</td>\n",
              "      <td>C</td>\n",
              "      <td>S</td>\n",
              "      <td>2</td>\n",
              "      <td>0</td>\n",
              "      <td>Adult</td>\n",
              "      <td>Very High</td>\n",
              "      <td>1_Adult</td>\n",
              "      <td>1_Very High</td>\n",
              "    </tr>\n",
              "    <tr>\n",
              "      <th>4</th>\n",
              "      <td>0</td>\n",
              "      <td>3</td>\n",
              "      <td>male</td>\n",
              "      <td>0.433312</td>\n",
              "      <td>0</td>\n",
              "      <td>0</td>\n",
              "      <td>-0.486337</td>\n",
              "      <td>U</td>\n",
              "      <td>S</td>\n",
              "      <td>1</td>\n",
              "      <td>1</td>\n",
              "      <td>Adult</td>\n",
              "      <td>Medium</td>\n",
              "      <td>3_Adult</td>\n",
              "      <td>3_Medium</td>\n",
              "    </tr>\n",
              "  </tbody>\n",
              "</table>\n",
              "</div>"
            ]
          },
          "execution_count": 23,
          "metadata": {},
          "output_type": "execute_result"
        }
      ],
      "execution_count": null
    },
    {
      "cell_type": "code",
      "metadata": {
        "ExecuteTime": {
          "end_time": "2024-08-08T07:47:04.672551Z",
          "start_time": "2024-08-08T07:47:04.640530Z"
        },
        "id": "8Ocv4M_xMSk7"
      },
      "source": [
        "trf1 = ColumnTransformer(remainder='passthrough', transformers=[\n",
        "    ('impute_age', SimpleImputer(), [2]),  # Assuming 'Age' is the 3rd column\n",
        "    ('impute_embarked', SimpleImputer(strategy='most_frequent'), [6])  # Assuming 'Embarked' is the 7th column\n",
        "])\n"
      ],
      "outputs": [],
      "execution_count": null
    },
    {
      "cell_type": "code",
      "metadata": {
        "ExecuteTime": {
          "end_time": "2024-08-08T07:47:05.255869Z",
          "start_time": "2024-08-08T07:47:05.247373Z"
        },
        "id": "OAn0wJGgMSk7"
      },
      "source": [
        "trf2 = ColumnTransformer(remainder='passthrough', transformers=[\n",
        "    ('ohe_sex_embarked', OneHotEncoder(handle_unknown='ignore', sparse=False), [1, 6])  # 'Sex' and 'Embarked'\n",
        "])\n"
      ],
      "outputs": [],
      "execution_count": null
    },
    {
      "metadata": {
        "ExecuteTime": {
          "end_time": "2024-08-08T07:47:05.641397Z",
          "start_time": "2024-08-08T07:47:05.634400Z"
        },
        "id": "vssnZ12iMSk8"
      },
      "cell_type": "code",
      "source": [
        "trf3 = ColumnTransformer(transformers=[\n",
        "    ('scale', MinMaxScaler(), slice(0, 10))  # Scale features 0 to 9\n",
        "])"
      ],
      "outputs": [],
      "execution_count": null
    },
    {
      "cell_type": "code",
      "metadata": {
        "ExecuteTime": {
          "end_time": "2024-08-08T07:47:06.564147Z",
          "start_time": "2024-08-08T07:47:06.551458Z"
        },
        "id": "jzFe_NjvMSk9"
      },
      "source": [
        "trf4 = SelectKBest(score_func=chi2, k=8)"
      ],
      "outputs": [],
      "execution_count": null
    },
    {
      "cell_type": "code",
      "metadata": {
        "ExecuteTime": {
          "end_time": "2024-08-08T07:47:07.009206Z",
          "start_time": "2024-08-08T07:47:07.001257Z"
        },
        "id": "_q1w_BG2MSk-"
      },
      "source": [
        "model=RandomForestClassifier()"
      ],
      "outputs": [],
      "execution_count": null
    },
    {
      "metadata": {
        "ExecuteTime": {
          "end_time": "2024-08-08T07:47:07.890699Z",
          "start_time": "2024-08-08T07:47:07.863146Z"
        },
        "id": "J2gbz-rIMSk-"
      },
      "cell_type": "code",
      "source": [
        "pipeline = Pipeline(steps=[\n",
        "    ('transformer1', trf1),\n",
        "    ('transformer2', trf2),\n",
        "    ('transformer3', trf3),\n",
        "    ('transformer4', trf4),\n",
        "    ('classifier', model)\n",
        "])"
      ],
      "outputs": [],
      "execution_count": null
    },
    {
      "metadata": {
        "ExecuteTime": {
          "end_time": "2024-08-08T07:47:08.633578Z",
          "start_time": "2024-08-08T07:47:08.509727Z"
        },
        "id": "Ilc32t61MSk_",
        "outputId": "dbdd215f-51d3-45bd-98cb-f7bc6fb4d70a"
      },
      "cell_type": "code",
      "source": [
        "pipeline.fit(X_train, y_train)"
      ],
      "outputs": [
        {
          "data": {
            "text/plain": [
              "Pipeline(steps=[('transformer1',\n",
              "                 ColumnTransformer(remainder='passthrough',\n",
              "                                   transformers=[('impute_age', SimpleImputer(),\n",
              "                                                  [2]),\n",
              "                                                 ('impute_embarked',\n",
              "                                                  SimpleImputer(strategy='most_frequent'),\n",
              "                                                  [6])])),\n",
              "                ('transformer2',\n",
              "                 ColumnTransformer(remainder='passthrough',\n",
              "                                   transformers=[('ohe_sex_embarked',\n",
              "                                                  OneHotEncoder(handle_unknown='ignore',\n",
              "                                                                sparse=False),\n",
              "                                                  [1, 6])])),\n",
              "                ('transformer3',\n",
              "                 ColumnTransformer(transformers=[('scale', MinMaxScaler(),\n",
              "                                                  slice(0, 10, None))])),\n",
              "                ('transformer4',\n",
              "                 SelectKBest(k=8,\n",
              "                             score_func=<function chi2 at 0x0000027911927820>)),\n",
              "                ('classifier', RandomForestClassifier())])"
            ],
            "text/html": [
              "<style>#sk-b97a5078-cc10-46d1-999e-d7e4fc8e6e77 {color: black;background-color: white;}#sk-b97a5078-cc10-46d1-999e-d7e4fc8e6e77 pre{padding: 0;}#sk-b97a5078-cc10-46d1-999e-d7e4fc8e6e77 div.sk-toggleable {background-color: white;}#sk-b97a5078-cc10-46d1-999e-d7e4fc8e6e77 label.sk-toggleable__label {cursor: pointer;display: block;width: 100%;margin-bottom: 0;padding: 0.3em;box-sizing: border-box;text-align: center;}#sk-b97a5078-cc10-46d1-999e-d7e4fc8e6e77 label.sk-toggleable__label-arrow:before {content: \"▸\";float: left;margin-right: 0.25em;color: #696969;}#sk-b97a5078-cc10-46d1-999e-d7e4fc8e6e77 label.sk-toggleable__label-arrow:hover:before {color: black;}#sk-b97a5078-cc10-46d1-999e-d7e4fc8e6e77 div.sk-estimator:hover label.sk-toggleable__label-arrow:before {color: black;}#sk-b97a5078-cc10-46d1-999e-d7e4fc8e6e77 div.sk-toggleable__content {max-height: 0;max-width: 0;overflow: hidden;text-align: left;background-color: #f0f8ff;}#sk-b97a5078-cc10-46d1-999e-d7e4fc8e6e77 div.sk-toggleable__content pre {margin: 0.2em;color: black;border-radius: 0.25em;background-color: #f0f8ff;}#sk-b97a5078-cc10-46d1-999e-d7e4fc8e6e77 input.sk-toggleable__control:checked~div.sk-toggleable__content {max-height: 200px;max-width: 100%;overflow: auto;}#sk-b97a5078-cc10-46d1-999e-d7e4fc8e6e77 input.sk-toggleable__control:checked~label.sk-toggleable__label-arrow:before {content: \"▾\";}#sk-b97a5078-cc10-46d1-999e-d7e4fc8e6e77 div.sk-estimator input.sk-toggleable__control:checked~label.sk-toggleable__label {background-color: #d4ebff;}#sk-b97a5078-cc10-46d1-999e-d7e4fc8e6e77 div.sk-label input.sk-toggleable__control:checked~label.sk-toggleable__label {background-color: #d4ebff;}#sk-b97a5078-cc10-46d1-999e-d7e4fc8e6e77 input.sk-hidden--visually {border: 0;clip: rect(1px 1px 1px 1px);clip: rect(1px, 1px, 1px, 1px);height: 1px;margin: -1px;overflow: hidden;padding: 0;position: absolute;width: 1px;}#sk-b97a5078-cc10-46d1-999e-d7e4fc8e6e77 div.sk-estimator {font-family: monospace;background-color: #f0f8ff;border: 1px dotted black;border-radius: 0.25em;box-sizing: border-box;margin-bottom: 0.5em;}#sk-b97a5078-cc10-46d1-999e-d7e4fc8e6e77 div.sk-estimator:hover {background-color: #d4ebff;}#sk-b97a5078-cc10-46d1-999e-d7e4fc8e6e77 div.sk-parallel-item::after {content: \"\";width: 100%;border-bottom: 1px solid gray;flex-grow: 1;}#sk-b97a5078-cc10-46d1-999e-d7e4fc8e6e77 div.sk-label:hover label.sk-toggleable__label {background-color: #d4ebff;}#sk-b97a5078-cc10-46d1-999e-d7e4fc8e6e77 div.sk-serial::before {content: \"\";position: absolute;border-left: 1px solid gray;box-sizing: border-box;top: 2em;bottom: 0;left: 50%;}#sk-b97a5078-cc10-46d1-999e-d7e4fc8e6e77 div.sk-serial {display: flex;flex-direction: column;align-items: center;background-color: white;padding-right: 0.2em;padding-left: 0.2em;}#sk-b97a5078-cc10-46d1-999e-d7e4fc8e6e77 div.sk-item {z-index: 1;}#sk-b97a5078-cc10-46d1-999e-d7e4fc8e6e77 div.sk-parallel {display: flex;align-items: stretch;justify-content: center;background-color: white;}#sk-b97a5078-cc10-46d1-999e-d7e4fc8e6e77 div.sk-parallel::before {content: \"\";position: absolute;border-left: 1px solid gray;box-sizing: border-box;top: 2em;bottom: 0;left: 50%;}#sk-b97a5078-cc10-46d1-999e-d7e4fc8e6e77 div.sk-parallel-item {display: flex;flex-direction: column;position: relative;background-color: white;}#sk-b97a5078-cc10-46d1-999e-d7e4fc8e6e77 div.sk-parallel-item:first-child::after {align-self: flex-end;width: 50%;}#sk-b97a5078-cc10-46d1-999e-d7e4fc8e6e77 div.sk-parallel-item:last-child::after {align-self: flex-start;width: 50%;}#sk-b97a5078-cc10-46d1-999e-d7e4fc8e6e77 div.sk-parallel-item:only-child::after {width: 0;}#sk-b97a5078-cc10-46d1-999e-d7e4fc8e6e77 div.sk-dashed-wrapped {border: 1px dashed gray;margin: 0 0.4em 0.5em 0.4em;box-sizing: border-box;padding-bottom: 0.4em;background-color: white;position: relative;}#sk-b97a5078-cc10-46d1-999e-d7e4fc8e6e77 div.sk-label label {font-family: monospace;font-weight: bold;background-color: white;display: inline-block;line-height: 1.2em;}#sk-b97a5078-cc10-46d1-999e-d7e4fc8e6e77 div.sk-label-container {position: relative;z-index: 2;text-align: center;}#sk-b97a5078-cc10-46d1-999e-d7e4fc8e6e77 div.sk-container {/* jupyter's `normalize.less` sets `[hidden] { display: none; }` but bootstrap.min.css set `[hidden] { display: none !important; }` so we also need the `!important` here to be able to override the default hidden behavior on the sphinx rendered scikit-learn.org. See: https://github.com/scikit-learn/scikit-learn/issues/21755 */display: inline-block !important;position: relative;}#sk-b97a5078-cc10-46d1-999e-d7e4fc8e6e77 div.sk-text-repr-fallback {display: none;}</style><div id=\"sk-b97a5078-cc10-46d1-999e-d7e4fc8e6e77\" class=\"sk-top-container\"><div class=\"sk-text-repr-fallback\"><pre>Pipeline(steps=[(&#x27;transformer1&#x27;,\n",
              "                 ColumnTransformer(remainder=&#x27;passthrough&#x27;,\n",
              "                                   transformers=[(&#x27;impute_age&#x27;, SimpleImputer(),\n",
              "                                                  [2]),\n",
              "                                                 (&#x27;impute_embarked&#x27;,\n",
              "                                                  SimpleImputer(strategy=&#x27;most_frequent&#x27;),\n",
              "                                                  [6])])),\n",
              "                (&#x27;transformer2&#x27;,\n",
              "                 ColumnTransformer(remainder=&#x27;passthrough&#x27;,\n",
              "                                   transformers=[(&#x27;ohe_sex_embarked&#x27;,\n",
              "                                                  OneHotEncoder(handle_unknown=&#x27;ignore&#x27;,\n",
              "                                                                sparse=False),\n",
              "                                                  [1, 6])])),\n",
              "                (&#x27;transformer3&#x27;,\n",
              "                 ColumnTransformer(transformers=[(&#x27;scale&#x27;, MinMaxScaler(),\n",
              "                                                  slice(0, 10, None))])),\n",
              "                (&#x27;transformer4&#x27;,\n",
              "                 SelectKBest(k=8,\n",
              "                             score_func=&lt;function chi2 at 0x0000027911927820&gt;)),\n",
              "                (&#x27;classifier&#x27;, RandomForestClassifier())])</pre><b>Please rerun this cell to show the HTML repr or trust the notebook.</b></div><div class=\"sk-container\" hidden><div class=\"sk-item sk-dashed-wrapped\"><div class=\"sk-label-container\"><div class=\"sk-label sk-toggleable\"><input class=\"sk-toggleable__control sk-hidden--visually\" id=\"235b0873-e02d-4704-9d5a-aedf539ad3c1\" type=\"checkbox\" ><label for=\"235b0873-e02d-4704-9d5a-aedf539ad3c1\" class=\"sk-toggleable__label sk-toggleable__label-arrow\">Pipeline</label><div class=\"sk-toggleable__content\"><pre>Pipeline(steps=[(&#x27;transformer1&#x27;,\n",
              "                 ColumnTransformer(remainder=&#x27;passthrough&#x27;,\n",
              "                                   transformers=[(&#x27;impute_age&#x27;, SimpleImputer(),\n",
              "                                                  [2]),\n",
              "                                                 (&#x27;impute_embarked&#x27;,\n",
              "                                                  SimpleImputer(strategy=&#x27;most_frequent&#x27;),\n",
              "                                                  [6])])),\n",
              "                (&#x27;transformer2&#x27;,\n",
              "                 ColumnTransformer(remainder=&#x27;passthrough&#x27;,\n",
              "                                   transformers=[(&#x27;ohe_sex_embarked&#x27;,\n",
              "                                                  OneHotEncoder(handle_unknown=&#x27;ignore&#x27;,\n",
              "                                                                sparse=False),\n",
              "                                                  [1, 6])])),\n",
              "                (&#x27;transformer3&#x27;,\n",
              "                 ColumnTransformer(transformers=[(&#x27;scale&#x27;, MinMaxScaler(),\n",
              "                                                  slice(0, 10, None))])),\n",
              "                (&#x27;transformer4&#x27;,\n",
              "                 SelectKBest(k=8,\n",
              "                             score_func=&lt;function chi2 at 0x0000027911927820&gt;)),\n",
              "                (&#x27;classifier&#x27;, RandomForestClassifier())])</pre></div></div></div><div class=\"sk-serial\"><div class=\"sk-item sk-dashed-wrapped\"><div class=\"sk-label-container\"><div class=\"sk-label sk-toggleable\"><input class=\"sk-toggleable__control sk-hidden--visually\" id=\"86a607b7-42eb-49ee-84cf-86177d31aecc\" type=\"checkbox\" ><label for=\"86a607b7-42eb-49ee-84cf-86177d31aecc\" class=\"sk-toggleable__label sk-toggleable__label-arrow\">transformer1: ColumnTransformer</label><div class=\"sk-toggleable__content\"><pre>ColumnTransformer(remainder=&#x27;passthrough&#x27;,\n",
              "                  transformers=[(&#x27;impute_age&#x27;, SimpleImputer(), [2]),\n",
              "                                (&#x27;impute_embarked&#x27;,\n",
              "                                 SimpleImputer(strategy=&#x27;most_frequent&#x27;),\n",
              "                                 [6])])</pre></div></div></div><div class=\"sk-parallel\"><div class=\"sk-parallel-item\"><div class=\"sk-item\"><div class=\"sk-label-container\"><div class=\"sk-label sk-toggleable\"><input class=\"sk-toggleable__control sk-hidden--visually\" id=\"5b53c5f8-55b6-4f9d-b6ca-70d5071435b7\" type=\"checkbox\" ><label for=\"5b53c5f8-55b6-4f9d-b6ca-70d5071435b7\" class=\"sk-toggleable__label sk-toggleable__label-arrow\">impute_age</label><div class=\"sk-toggleable__content\"><pre>[2]</pre></div></div></div><div class=\"sk-serial\"><div class=\"sk-item\"><div class=\"sk-estimator sk-toggleable\"><input class=\"sk-toggleable__control sk-hidden--visually\" id=\"c0dcfb98-a312-48fe-b32e-5517274203a4\" type=\"checkbox\" ><label for=\"c0dcfb98-a312-48fe-b32e-5517274203a4\" class=\"sk-toggleable__label sk-toggleable__label-arrow\">SimpleImputer</label><div class=\"sk-toggleable__content\"><pre>SimpleImputer()</pre></div></div></div></div></div></div><div class=\"sk-parallel-item\"><div class=\"sk-item\"><div class=\"sk-label-container\"><div class=\"sk-label sk-toggleable\"><input class=\"sk-toggleable__control sk-hidden--visually\" id=\"c7bedb18-16dc-46ff-bff1-f0603f122783\" type=\"checkbox\" ><label for=\"c7bedb18-16dc-46ff-bff1-f0603f122783\" class=\"sk-toggleable__label sk-toggleable__label-arrow\">impute_embarked</label><div class=\"sk-toggleable__content\"><pre>[6]</pre></div></div></div><div class=\"sk-serial\"><div class=\"sk-item\"><div class=\"sk-estimator sk-toggleable\"><input class=\"sk-toggleable__control sk-hidden--visually\" id=\"a5a3e2c7-e57f-49c6-b27a-3700079bbda4\" type=\"checkbox\" ><label for=\"a5a3e2c7-e57f-49c6-b27a-3700079bbda4\" class=\"sk-toggleable__label sk-toggleable__label-arrow\">SimpleImputer</label><div class=\"sk-toggleable__content\"><pre>SimpleImputer(strategy=&#x27;most_frequent&#x27;)</pre></div></div></div></div></div></div><div class=\"sk-parallel-item\"><div class=\"sk-item\"><div class=\"sk-label-container\"><div class=\"sk-label sk-toggleable\"><input class=\"sk-toggleable__control sk-hidden--visually\" id=\"e92c56fb-315b-4c4d-8e7b-f8740b02f740\" type=\"checkbox\" ><label for=\"e92c56fb-315b-4c4d-8e7b-f8740b02f740\" class=\"sk-toggleable__label sk-toggleable__label-arrow\">remainder</label><div class=\"sk-toggleable__content\"><pre>[&#x27;Pclass&#x27;, &#x27;Sex&#x27;, &#x27;SibSp&#x27;, &#x27;Parch&#x27;, &#x27;Fare&#x27;, &#x27;Embarked&#x27;, &#x27;FamilySize&#x27;, &#x27;IsAlone&#x27;, &#x27;AgeBand&#x27;, &#x27;FareBand&#x27;, &#x27;Pclass_Age&#x27;, &#x27;Pclass_Fare&#x27;]</pre></div></div></div><div class=\"sk-serial\"><div class=\"sk-item\"><div class=\"sk-estimator sk-toggleable\"><input class=\"sk-toggleable__control sk-hidden--visually\" id=\"f286c7f6-8ad8-48cd-bed7-20c041fab186\" type=\"checkbox\" ><label for=\"f286c7f6-8ad8-48cd-bed7-20c041fab186\" class=\"sk-toggleable__label sk-toggleable__label-arrow\">passthrough</label><div class=\"sk-toggleable__content\"><pre>passthrough</pre></div></div></div></div></div></div></div></div><div class=\"sk-item sk-dashed-wrapped\"><div class=\"sk-label-container\"><div class=\"sk-label sk-toggleable\"><input class=\"sk-toggleable__control sk-hidden--visually\" id=\"4f6f9b4e-b8ff-4c53-8bf5-547c55b1a3c7\" type=\"checkbox\" ><label for=\"4f6f9b4e-b8ff-4c53-8bf5-547c55b1a3c7\" class=\"sk-toggleable__label sk-toggleable__label-arrow\">transformer2: ColumnTransformer</label><div class=\"sk-toggleable__content\"><pre>ColumnTransformer(remainder=&#x27;passthrough&#x27;,\n",
              "                  transformers=[(&#x27;ohe_sex_embarked&#x27;,\n",
              "                                 OneHotEncoder(handle_unknown=&#x27;ignore&#x27;,\n",
              "                                               sparse=False),\n",
              "                                 [1, 6])])</pre></div></div></div><div class=\"sk-parallel\"><div class=\"sk-parallel-item\"><div class=\"sk-item\"><div class=\"sk-label-container\"><div class=\"sk-label sk-toggleable\"><input class=\"sk-toggleable__control sk-hidden--visually\" id=\"03be03d9-d669-44b7-8050-8d9d4bd487ca\" type=\"checkbox\" ><label for=\"03be03d9-d669-44b7-8050-8d9d4bd487ca\" class=\"sk-toggleable__label sk-toggleable__label-arrow\">ohe_sex_embarked</label><div class=\"sk-toggleable__content\"><pre>[1, 6]</pre></div></div></div><div class=\"sk-serial\"><div class=\"sk-item\"><div class=\"sk-estimator sk-toggleable\"><input class=\"sk-toggleable__control sk-hidden--visually\" id=\"a8f334af-0472-41ed-a127-706a718e28ea\" type=\"checkbox\" ><label for=\"a8f334af-0472-41ed-a127-706a718e28ea\" class=\"sk-toggleable__label sk-toggleable__label-arrow\">OneHotEncoder</label><div class=\"sk-toggleable__content\"><pre>OneHotEncoder(handle_unknown=&#x27;ignore&#x27;, sparse=False)</pre></div></div></div></div></div></div><div class=\"sk-parallel-item\"><div class=\"sk-item\"><div class=\"sk-label-container\"><div class=\"sk-label sk-toggleable\"><input class=\"sk-toggleable__control sk-hidden--visually\" id=\"7e79c35b-ffff-4ddc-a99f-011047a3c1c0\" type=\"checkbox\" ><label for=\"7e79c35b-ffff-4ddc-a99f-011047a3c1c0\" class=\"sk-toggleable__label sk-toggleable__label-arrow\">remainder</label><div class=\"sk-toggleable__content\"><pre>[0, 2, 3, 4, 5, 7, 8, 9, 10, 11, 12, 13]</pre></div></div></div><div class=\"sk-serial\"><div class=\"sk-item\"><div class=\"sk-estimator sk-toggleable\"><input class=\"sk-toggleable__control sk-hidden--visually\" id=\"43899d94-7dbc-4792-b7dd-68df63ea41e9\" type=\"checkbox\" ><label for=\"43899d94-7dbc-4792-b7dd-68df63ea41e9\" class=\"sk-toggleable__label sk-toggleable__label-arrow\">passthrough</label><div class=\"sk-toggleable__content\"><pre>passthrough</pre></div></div></div></div></div></div></div></div><div class=\"sk-item sk-dashed-wrapped\"><div class=\"sk-label-container\"><div class=\"sk-label sk-toggleable\"><input class=\"sk-toggleable__control sk-hidden--visually\" id=\"b17ed12b-9cf8-44c9-aec9-83f103ef66ce\" type=\"checkbox\" ><label for=\"b17ed12b-9cf8-44c9-aec9-83f103ef66ce\" class=\"sk-toggleable__label sk-toggleable__label-arrow\">transformer3: ColumnTransformer</label><div class=\"sk-toggleable__content\"><pre>ColumnTransformer(transformers=[(&#x27;scale&#x27;, MinMaxScaler(), slice(0, 10, None))])</pre></div></div></div><div class=\"sk-parallel\"><div class=\"sk-parallel-item\"><div class=\"sk-item\"><div class=\"sk-label-container\"><div class=\"sk-label sk-toggleable\"><input class=\"sk-toggleable__control sk-hidden--visually\" id=\"f0ba8899-cd2a-4c4c-825a-65fc5c540494\" type=\"checkbox\" ><label for=\"f0ba8899-cd2a-4c4c-825a-65fc5c540494\" class=\"sk-toggleable__label sk-toggleable__label-arrow\">scale</label><div class=\"sk-toggleable__content\"><pre>slice(0, 10, None)</pre></div></div></div><div class=\"sk-serial\"><div class=\"sk-item\"><div class=\"sk-estimator sk-toggleable\"><input class=\"sk-toggleable__control sk-hidden--visually\" id=\"d78b9a84-2930-4eea-96d7-bcc017b82725\" type=\"checkbox\" ><label for=\"d78b9a84-2930-4eea-96d7-bcc017b82725\" class=\"sk-toggleable__label sk-toggleable__label-arrow\">MinMaxScaler</label><div class=\"sk-toggleable__content\"><pre>MinMaxScaler()</pre></div></div></div></div></div></div></div></div><div class=\"sk-item\"><div class=\"sk-estimator sk-toggleable\"><input class=\"sk-toggleable__control sk-hidden--visually\" id=\"ab243b38-a0c5-4e72-a84c-c555461af96a\" type=\"checkbox\" ><label for=\"ab243b38-a0c5-4e72-a84c-c555461af96a\" class=\"sk-toggleable__label sk-toggleable__label-arrow\">SelectKBest</label><div class=\"sk-toggleable__content\"><pre>SelectKBest(k=8, score_func=&lt;function chi2 at 0x0000027911927820&gt;)</pre></div></div></div><div class=\"sk-item\"><div class=\"sk-estimator sk-toggleable\"><input class=\"sk-toggleable__control sk-hidden--visually\" id=\"de271d2f-506c-4def-ad42-1b093f6a2941\" type=\"checkbox\" ><label for=\"de271d2f-506c-4def-ad42-1b093f6a2941\" class=\"sk-toggleable__label sk-toggleable__label-arrow\">RandomForestClassifier</label><div class=\"sk-toggleable__content\"><pre>RandomForestClassifier()</pre></div></div></div></div></div></div></div>"
            ]
          },
          "execution_count": 55,
          "metadata": {},
          "output_type": "execute_result"
        }
      ],
      "execution_count": null
    },
    {
      "cell_type": "code",
      "metadata": {
        "ExecuteTime": {
          "end_time": "2024-08-08T07:47:20.781549Z",
          "start_time": "2024-08-08T07:47:20.755369Z"
        },
        "id": "QkWTg426MSlA",
        "outputId": "4a51c76c-c4a6-434b-8ce3-ca703dbd6d62"
      },
      "source": [
        "pipeline.named_steps"
      ],
      "outputs": [
        {
          "data": {
            "text/plain": [
              "{'transformer1': ColumnTransformer(remainder='passthrough',\n",
              "                   transformers=[('impute_age', SimpleImputer(), [2]),\n",
              "                                 ('impute_embarked',\n",
              "                                  SimpleImputer(strategy='most_frequent'),\n",
              "                                  [6])]),\n",
              " 'transformer2': ColumnTransformer(remainder='passthrough',\n",
              "                   transformers=[('ohe_sex_embarked',\n",
              "                                  OneHotEncoder(handle_unknown='ignore',\n",
              "                                                sparse=False),\n",
              "                                  [1, 6])]),\n",
              " 'transformer3': ColumnTransformer(transformers=[('scale', MinMaxScaler(), slice(0, 10, None))]),\n",
              " 'transformer4': SelectKBest(k=8, score_func=<function chi2 at 0x0000027911927820>),\n",
              " 'classifier': RandomForestClassifier()}"
            ]
          },
          "execution_count": 56,
          "metadata": {},
          "output_type": "execute_result"
        }
      ],
      "execution_count": null
    },
    {
      "cell_type": "code",
      "metadata": {
        "ExecuteTime": {
          "end_time": "2024-08-08T07:47:21.878418Z",
          "start_time": "2024-08-08T07:47:21.863974Z"
        },
        "id": "WNB6ghRcMSlB"
      },
      "source": [
        "from sklearn import set_config\n",
        "set_config(display='diagram')"
      ],
      "outputs": [],
      "execution_count": null
    },
    {
      "cell_type": "code",
      "metadata": {
        "ExecuteTime": {
          "end_time": "2024-08-08T07:47:23.085007Z",
          "start_time": "2024-08-08T07:47:23.039068Z"
        },
        "id": "emWqtnyDMSlD"
      },
      "source": [
        "# Predict\n",
        "y_pred = pipeline.predict(X_test)"
      ],
      "outputs": [],
      "execution_count": null
    },
    {
      "cell_type": "code",
      "metadata": {
        "ExecuteTime": {
          "end_time": "2024-08-08T07:47:23.617251Z",
          "start_time": "2024-08-08T07:47:23.601460Z"
        },
        "id": "NAAFrmDsMSlG",
        "outputId": "94386960-240c-4b08-c89b-89714b146e32"
      },
      "source": [
        "y_pred"
      ],
      "outputs": [
        {
          "data": {
            "text/plain": [
              "array([0, 0, 0, 0, 0, 0, 0, 0, 0, 1, 1, 0, 0, 0, 0, 1, 1, 0, 0, 1, 0, 0,\n",
              "       0, 0, 0, 0, 0, 0, 0, 0, 0, 0, 0, 0, 0, 0, 0, 0, 0, 0, 0, 0, 0, 0,\n",
              "       0, 0, 0, 0, 0, 1, 0, 1, 0, 1, 0, 1, 0, 1, 0, 0, 0, 0, 0, 0, 0, 1,\n",
              "       0, 0, 0, 1, 0, 1, 1, 1, 0, 0, 0, 1, 0, 0, 0, 1, 1, 0, 0, 0, 1, 1,\n",
              "       0, 0, 0, 0, 1, 0, 0, 0, 1, 0, 1, 0, 0, 0, 1, 0, 0, 0, 0, 1, 0, 0,\n",
              "       1, 0, 1, 1, 1, 0, 0, 1, 0, 0, 0, 1, 1, 0, 0, 0, 1, 1, 0, 0, 0, 0,\n",
              "       0, 0, 0, 0, 0, 0, 0, 0, 0, 0, 0, 0, 0, 0, 0, 0, 1, 0, 0, 0, 0, 0,\n",
              "       0, 0, 0, 0, 0, 0, 0, 0, 0, 0, 0, 1, 0, 1, 0, 0, 1, 0, 1, 0, 0, 0,\n",
              "       0, 0, 0], dtype=int64)"
            ]
          },
          "execution_count": 59,
          "metadata": {},
          "output_type": "execute_result"
        }
      ],
      "execution_count": null
    },
    {
      "cell_type": "code",
      "metadata": {
        "ExecuteTime": {
          "end_time": "2024-08-08T07:47:24.651089Z",
          "start_time": "2024-08-08T07:47:24.636707Z"
        },
        "id": "GpOo54reMSlG",
        "outputId": "e28be77b-8947-47b7-b147-12df345f7fdd"
      },
      "source": [
        "from sklearn.metrics import accuracy_score\n",
        "accuracy_score(y_test,y_pred)"
      ],
      "outputs": [
        {
          "data": {
            "text/plain": [
              "0.6927374301675978"
            ]
          },
          "execution_count": 60,
          "metadata": {},
          "output_type": "execute_result"
        }
      ],
      "execution_count": null
    },
    {
      "cell_type": "code",
      "metadata": {
        "ExecuteTime": {
          "end_time": "2024-08-08T07:48:01.329063Z",
          "start_time": "2024-08-08T07:48:00.829017Z"
        },
        "id": "Jm6UzBMyMSlH",
        "outputId": "4d4347f5-d67f-438d-b740-7ed0be154433"
      },
      "source": [
        "from sklearn.model_selection import cross_val_score\n",
        "cross_val_score(pipeline, X_train, y_train, cv=5, scoring='accuracy').mean()"
      ],
      "outputs": [
        {
          "data": {
            "text/plain": [
              "0.6924554318920516"
            ]
          },
          "execution_count": 61,
          "metadata": {},
          "output_type": "execute_result"
        }
      ],
      "execution_count": null
    },
    {
      "metadata": {
        "ExecuteTime": {
          "end_time": "2024-08-08T08:10:27.008364Z",
          "start_time": "2024-08-08T08:02:29.869205Z"
        },
        "id": "-C01_SUhMSlI",
        "outputId": "59e45daf-9bc5-4ba6-e49c-7a2b303d5c12"
      },
      "cell_type": "code",
      "source": [
        "import optuna\n",
        "from optuna.samplers import TPESampler\n",
        "from sklearn.model_selection import GridSearchCV\n",
        "def objective(trial):\n",
        "    n_estimators = trial.suggest_int('classifier__n_estimators', 100, 1000, step=100)\n",
        "    max_depth = trial.suggest_int('classifier__max_depth', 2, 32, step=2)\n",
        "    min_samples_split = trial.suggest_int('classifier__min_samples_split', 2, 16, step=2)\n",
        "    min_samples_leaf = trial.suggest_int('classifier__min_samples_leaf', 1, 16, step=1)\n",
        "\n",
        "    pipeline.set_params(classifier__n_estimators=n_estimators,\n",
        "                        classifier__max_depth=max_depth,\n",
        "                        classifier__min_samples_split=min_samples_split,\n",
        "                        classifier__min_samples_leaf=min_samples_leaf)\n",
        "\n",
        "    score = cross_val_score(pipeline, X_train, y_train, cv=5, scoring='accuracy').mean()\n",
        "    return score\n",
        "\n",
        "study = optuna.create_study(direction='maximize', sampler=TPESampler(seed=42))\n",
        "study.optimize(objective, n_trials=100, n_jobs=-1)\n",
        "\n",
        "print(\"Best hyperparameters found: \", study.best_params)"
      ],
      "outputs": [
        {
          "name": "stderr",
          "output_type": "stream",
          "text": [
            "\u001b[32m[I 2024-08-08 14:02:31,882]\u001b[0m A new study created in memory with name: no-name-5430223a-effa-4e60-9502-24656c5768f9\u001b[0m\n",
            "\u001b[32m[I 2024-08-08 14:03:00,190]\u001b[0m Trial 7 finished with value: 0.6544863587117108 and parameters: {'classifier__n_estimators': 500, 'classifier__max_depth': 10, 'classifier__min_samples_split': 6, 'classifier__min_samples_leaf': 15}. Best is trial 7 with value: 0.6544863587117108.\u001b[0m\n",
            "\u001b[32m[I 2024-08-08 14:03:00,201]\u001b[0m Trial 0 finished with value: 0.6460553530976066 and parameters: {'classifier__n_estimators': 200, 'classifier__max_depth': 20, 'classifier__min_samples_split': 12, 'classifier__min_samples_leaf': 16}. Best is trial 7 with value: 0.6544863587117108.\u001b[0m\n",
            "\u001b[32m[I 2024-08-08 14:03:00,217]\u001b[0m Trial 3 finished with value: 0.6432581503004038 and parameters: {'classifier__n_estimators': 800, 'classifier__max_depth': 4, 'classifier__min_samples_split': 16, 'classifier__min_samples_leaf': 6}. Best is trial 7 with value: 0.6544863587117108.\u001b[0m\n",
            "\u001b[32m[I 2024-08-08 14:03:00,307]\u001b[0m Trial 1 finished with value: 0.6488722545060573 and parameters: {'classifier__n_estimators': 800, 'classifier__max_depth': 8, 'classifier__min_samples_split': 14, 'classifier__min_samples_leaf': 13}. Best is trial 7 with value: 0.6544863587117108.\u001b[0m\n",
            "\u001b[32m[I 2024-08-08 14:03:00,340]\u001b[0m Trial 4 finished with value: 0.6600906136117404 and parameters: {'classifier__n_estimators': 800, 'classifier__max_depth': 6, 'classifier__min_samples_split': 2, 'classifier__min_samples_leaf': 10}. Best is trial 4 with value: 0.6600906136117404.\u001b[0m\n",
            "\u001b[32m[I 2024-08-08 14:03:00,400]\u001b[0m Trial 6 finished with value: 0.6488722545060573 and parameters: {'classifier__n_estimators': 300, 'classifier__max_depth': 2, 'classifier__min_samples_split': 10, 'classifier__min_samples_leaf': 4}. Best is trial 4 with value: 0.6600906136117404.\u001b[0m\n",
            "\u001b[32m[I 2024-08-08 14:03:01,389]\u001b[0m Trial 2 finished with value: 0.651689155914508 and parameters: {'classifier__n_estimators': 200, 'classifier__max_depth': 30, 'classifier__min_samples_split': 4, 'classifier__min_samples_leaf': 8}. Best is trial 4 with value: 0.6600906136117404.\u001b[0m\n",
            "\u001b[32m[I 2024-08-08 14:03:01,433]\u001b[0m Trial 5 finished with value: 0.6544863587117108 and parameters: {'classifier__n_estimators': 1000, 'classifier__max_depth': 12, 'classifier__min_samples_split': 10, 'classifier__min_samples_leaf': 7}. Best is trial 4 with value: 0.6600906136117404.\u001b[0m\n",
            "\u001b[32m[I 2024-08-08 14:03:15,766]\u001b[0m Trial 14 finished with value: 0.6544469614892151 and parameters: {'classifier__n_estimators': 100, 'classifier__max_depth': 16, 'classifier__min_samples_split': 6, 'classifier__min_samples_leaf': 8}. Best is trial 4 with value: 0.6600906136117404.\u001b[0m\n",
            "\u001b[32m[I 2024-08-08 14:03:17,690]\u001b[0m Trial 15 finished with value: 0.6488525558948094 and parameters: {'classifier__n_estimators': 300, 'classifier__max_depth': 28, 'classifier__min_samples_split': 14, 'classifier__min_samples_leaf': 15}. Best is trial 4 with value: 0.6600906136117404.\u001b[0m\n",
            "\u001b[32m[I 2024-08-08 14:03:18,301]\u001b[0m Trial 13 finished with value: 0.6516497586920122 and parameters: {'classifier__n_estimators': 300, 'classifier__max_depth': 28, 'classifier__min_samples_split': 6, 'classifier__min_samples_leaf': 9}. Best is trial 4 with value: 0.6600906136117404.\u001b[0m\n",
            "\u001b[32m[I 2024-08-08 14:03:18,452]\u001b[0m Trial 11 finished with value: 0.6572835615089136 and parameters: {'classifier__n_estimators': 200, 'classifier__max_depth': 10, 'classifier__min_samples_split': 6, 'classifier__min_samples_leaf': 11}. Best is trial 4 with value: 0.6600906136117404.\u001b[0m\n",
            "\u001b[32m[I 2024-08-08 14:03:18,452]\u001b[0m Trial 12 finished with value: 0.6544469614892151 and parameters: {'classifier__n_estimators': 300, 'classifier__max_depth': 6, 'classifier__min_samples_split': 14, 'classifier__min_samples_leaf': 10}. Best is trial 4 with value: 0.6600906136117404.\u001b[0m\n",
            "\u001b[32m[I 2024-08-08 14:03:22,730]\u001b[0m Trial 9 finished with value: 0.6600807643061164 and parameters: {'classifier__n_estimators': 800, 'classifier__max_depth': 24, 'classifier__min_samples_split': 2, 'classifier__min_samples_leaf': 15}. Best is trial 4 with value: 0.6600906136117404.\u001b[0m\n",
            "\u001b[32m[I 2024-08-08 14:03:22,809]\u001b[0m Trial 8 finished with value: 0.647473653107456 and parameters: {'classifier__n_estimators': 600, 'classifier__max_depth': 18, 'classifier__min_samples_split': 6, 'classifier__min_samples_leaf': 11}. Best is trial 4 with value: 0.6600906136117404.\u001b[0m\n",
            "\u001b[32m[I 2024-08-08 14:03:23,595]\u001b[0m Trial 10 finished with value: 0.6614892150103417 and parameters: {'classifier__n_estimators': 400, 'classifier__max_depth': 12, 'classifier__min_samples_split': 4, 'classifier__min_samples_leaf': 11}. Best is trial 10 with value: 0.6614892150103417.\u001b[0m\n",
            "\u001b[32m[I 2024-08-08 14:03:51,806]\u001b[0m Trial 16 finished with value: 0.6896582290948488 and parameters: {'classifier__n_estimators': 500, 'classifier__max_depth': 22, 'classifier__min_samples_split': 14, 'classifier__min_samples_leaf': 2}. Best is trial 16 with value: 0.6896582290948488.\u001b[0m\n",
            "\u001b[32m[I 2024-08-08 14:03:52,847]\u001b[0m Trial 20 finished with value: 0.686861026297646 and parameters: {'classifier__n_estimators': 600, 'classifier__max_depth': 16, 'classifier__min_samples_split': 2, 'classifier__min_samples_leaf': 12}. Best is trial 16 with value: 0.6896582290948488.\u001b[0m\n",
            "\u001b[32m[I 2024-08-08 14:03:53,885]\u001b[0m Trial 19 finished with value: 0.6910568304934502 and parameters: {'classifier__n_estimators': 600, 'classifier__max_depth': 16, 'classifier__min_samples_split': 2, 'classifier__min_samples_leaf': 12}. Best is trial 19 with value: 0.6910568304934502.\u001b[0m\n",
            "\u001b[32m[I 2024-08-08 14:03:55,619]\u001b[0m Trial 17 finished with value: 0.6924554318920516 and parameters: {'classifier__n_estimators': 600, 'classifier__max_depth': 24, 'classifier__min_samples_split': 2, 'classifier__min_samples_leaf': 1}. Best is trial 17 with value: 0.6924554318920516.\u001b[0m\n",
            "\u001b[32m[I 2024-08-08 14:03:58,517]\u001b[0m Trial 23 finished with value: 0.6924554318920516 and parameters: {'classifier__n_estimators': 600, 'classifier__max_depth': 14, 'classifier__min_samples_split': 2, 'classifier__min_samples_leaf': 1}. Best is trial 17 with value: 0.6924554318920516.\u001b[0m\n",
            "\u001b[32m[I 2024-08-08 14:03:59,364]\u001b[0m Trial 21 finished with value: 0.6952723333005023 and parameters: {'classifier__n_estimators': 700, 'classifier__max_depth': 22, 'classifier__min_samples_split': 2, 'classifier__min_samples_leaf': 2}. Best is trial 21 with value: 0.6952723333005023.\u001b[0m\n",
            "\u001b[32m[I 2024-08-08 14:04:01,049]\u001b[0m Trial 18 finished with value: 0.686841327686398 and parameters: {'classifier__n_estimators': 1000, 'classifier__max_depth': 14, 'classifier__min_samples_split': 2, 'classifier__min_samples_leaf': 1}. Best is trial 21 with value: 0.6952723333005023.\u001b[0m\n",
            "\u001b[32m[I 2024-08-08 14:04:04,926]\u001b[0m Trial 22 finished with value: 0.6952723333005023 and parameters: {'classifier__n_estimators': 900, 'classifier__max_depth': 24, 'classifier__min_samples_split': 2, 'classifier__min_samples_leaf': 1}. Best is trial 21 with value: 0.6952723333005023.\u001b[0m\n",
            "\u001b[32m[I 2024-08-08 14:04:38,477]\u001b[0m Trial 24 finished with value: 0.6896385304836009 and parameters: {'classifier__n_estimators': 500, 'classifier__max_depth': 22, 'classifier__min_samples_split': 8, 'classifier__min_samples_leaf': 1}. Best is trial 21 with value: 0.6952723333005023.\u001b[0m\n",
            "\u001b[32m[I 2024-08-08 14:04:39,997]\u001b[0m Trial 25 finished with value: 0.6896385304836009 and parameters: {'classifier__n_estimators': 600, 'classifier__max_depth': 22, 'classifier__min_samples_split': 16, 'classifier__min_samples_leaf': 1}. Best is trial 21 with value: 0.6952723333005023.\u001b[0m\n",
            "\u001b[32m[I 2024-08-08 14:04:40,662]\u001b[0m Trial 26 finished with value: 0.6840244262779474 and parameters: {'classifier__n_estimators': 500, 'classifier__max_depth': 22, 'classifier__min_samples_split': 16, 'classifier__min_samples_leaf': 1}. Best is trial 21 with value: 0.6952723333005023.\u001b[0m\n",
            "\u001b[32m[I 2024-08-08 14:04:43,775]\u001b[0m Trial 27 finished with value: 0.6840244262779474 and parameters: {'classifier__n_estimators': 700, 'classifier__max_depth': 24, 'classifier__min_samples_split': 4, 'classifier__min_samples_leaf': 1}. Best is trial 21 with value: 0.6952723333005023.\u001b[0m\n",
            "\u001b[32m[I 2024-08-08 14:04:49,064]\u001b[0m Trial 29 finished with value: 0.6840244262779474 and parameters: {'classifier__n_estimators': 700, 'classifier__max_depth': 24, 'classifier__min_samples_split': 4, 'classifier__min_samples_leaf': 1}. Best is trial 21 with value: 0.6952723333005023.\u001b[0m\n",
            "\u001b[32m[I 2024-08-08 14:04:49,122]\u001b[0m Trial 28 finished with value: 0.6840244262779474 and parameters: {'classifier__n_estimators': 700, 'classifier__max_depth': 24, 'classifier__min_samples_split': 4, 'classifier__min_samples_leaf': 1}. Best is trial 21 with value: 0.6952723333005023.\u001b[0m\n",
            "\u001b[32m[I 2024-08-08 14:04:50,220]\u001b[0m Trial 30 finished with value: 0.6840244262779474 and parameters: {'classifier__n_estimators': 700, 'classifier__max_depth': 24, 'classifier__min_samples_split': 4, 'classifier__min_samples_leaf': 3}. Best is trial 21 with value: 0.6952723333005023.\u001b[0m\n",
            "\u001b[32m[I 2024-08-08 14:04:56,147]\u001b[0m Trial 31 finished with value: 0.6840244262779474 and parameters: {'classifier__n_estimators': 900, 'classifier__max_depth': 24, 'classifier__min_samples_split': 4, 'classifier__min_samples_leaf': 3}. Best is trial 21 with value: 0.6952723333005023.\u001b[0m\n",
            "\u001b[32m[I 2024-08-08 14:05:30,366]\u001b[0m Trial 34 finished with value: 0.6840244262779474 and parameters: {'classifier__n_estimators': 700, 'classifier__max_depth': 26, 'classifier__min_samples_split': 4, 'classifier__min_samples_leaf': 3}. Best is trial 21 with value: 0.6952723333005023.\u001b[0m\n",
            "\u001b[32m[I 2024-08-08 14:05:31,182]\u001b[0m Trial 32 finished with value: 0.686841327686398 and parameters: {'classifier__n_estimators': 900, 'classifier__max_depth': 26, 'classifier__min_samples_split': 4, 'classifier__min_samples_leaf': 3}. Best is trial 21 with value: 0.6952723333005023.\u001b[0m\n",
            "\u001b[32m[I 2024-08-08 14:05:31,310]\u001b[0m Trial 33 finished with value: 0.6840244262779474 and parameters: {'classifier__n_estimators': 900, 'classifier__max_depth': 26, 'classifier__min_samples_split': 4, 'classifier__min_samples_leaf': 3}. Best is trial 21 with value: 0.6952723333005023.\u001b[0m\n",
            "\u001b[32m[I 2024-08-08 14:05:36,108]\u001b[0m Trial 36 finished with value: 0.686841327686398 and parameters: {'classifier__n_estimators': 900, 'classifier__max_depth': 32, 'classifier__min_samples_split': 8, 'classifier__min_samples_leaf': 3}. Best is trial 21 with value: 0.6952723333005023.\u001b[0m\n",
            "\u001b[32m[I 2024-08-08 14:05:36,151]\u001b[0m Trial 38 finished with value: 0.6840244262779474 and parameters: {'classifier__n_estimators': 900, 'classifier__max_depth': 20, 'classifier__min_samples_split': 2, 'classifier__min_samples_leaf': 4}. Best is trial 21 with value: 0.6952723333005023.\u001b[0m\n",
            "\u001b[32m[I 2024-08-08 14:05:36,915]\u001b[0m Trial 37 finished with value: 0.6840244262779474 and parameters: {'classifier__n_estimators': 900, 'classifier__max_depth': 32, 'classifier__min_samples_split': 8, 'classifier__min_samples_leaf': 3}. Best is trial 21 with value: 0.6952723333005023.\u001b[0m\n",
            "\u001b[32m[I 2024-08-08 14:05:37,893]\u001b[0m Trial 35 finished with value: 0.6840244262779474 and parameters: {'classifier__n_estimators': 900, 'classifier__max_depth': 32, 'classifier__min_samples_split': 4, 'classifier__min_samples_leaf': 3}. Best is trial 21 with value: 0.6952723333005023.\u001b[0m\n",
            "\u001b[32m[I 2024-08-08 14:05:44,581]\u001b[0m Trial 39 finished with value: 0.6840244262779474 and parameters: {'classifier__n_estimators': 900, 'classifier__max_depth': 20, 'classifier__min_samples_split': 2, 'classifier__min_samples_leaf': 4}. Best is trial 21 with value: 0.6952723333005023.\u001b[0m\n",
            "\u001b[32m[I 2024-08-08 14:06:03,097]\u001b[0m Trial 42 finished with value: 0.6840244262779474 and parameters: {'classifier__n_estimators': 400, 'classifier__max_depth': 20, 'classifier__min_samples_split': 2, 'classifier__min_samples_leaf': 5}. Best is trial 21 with value: 0.6952723333005023.\u001b[0m\n",
            "\u001b[32m[I 2024-08-08 14:06:09,530]\u001b[0m Trial 45 finished with value: 0.686841327686398 and parameters: {'classifier__n_estimators': 400, 'classifier__max_depth': 18, 'classifier__min_samples_split': 2, 'classifier__min_samples_leaf': 6}. Best is trial 21 with value: 0.6952723333005023.\u001b[0m\n",
            "\u001b[32m[I 2024-08-08 14:06:09,597]\u001b[0m Trial 44 finished with value: 0.6840244262779474 and parameters: {'classifier__n_estimators': 400, 'classifier__max_depth': 18, 'classifier__min_samples_split': 2, 'classifier__min_samples_leaf': 4}. Best is trial 21 with value: 0.6952723333005023.\u001b[0m\n",
            "\u001b[32m[I 2024-08-08 14:06:10,861]\u001b[0m Trial 41 finished with value: 0.6840244262779474 and parameters: {'classifier__n_estimators': 900, 'classifier__max_depth': 32, 'classifier__min_samples_split': 2, 'classifier__min_samples_leaf': 5}. Best is trial 21 with value: 0.6952723333005023.\u001b[0m\n",
            "\u001b[32m[I 2024-08-08 14:06:10,972]\u001b[0m Trial 40 finished with value: 0.686841327686398 and parameters: {'classifier__n_estimators': 900, 'classifier__max_depth': 32, 'classifier__min_samples_split': 2, 'classifier__min_samples_leaf': 5}. Best is trial 21 with value: 0.6952723333005023.\u001b[0m\n",
            "\u001b[32m[I 2024-08-08 14:06:12,293]\u001b[0m Trial 46 finished with value: 0.6840244262779474 and parameters: {'classifier__n_estimators': 400, 'classifier__max_depth': 18, 'classifier__min_samples_split': 2, 'classifier__min_samples_leaf': 5}. Best is trial 21 with value: 0.6952723333005023.\u001b[0m\n",
            "\u001b[32m[I 2024-08-08 14:06:20,419]\u001b[0m Trial 43 finished with value: 0.6840244262779474 and parameters: {'classifier__n_estimators': 800, 'classifier__max_depth': 20, 'classifier__min_samples_split': 2, 'classifier__min_samples_leaf': 6}. Best is trial 21 with value: 0.6952723333005023.\u001b[0m\n",
            "\u001b[32m[I 2024-08-08 14:06:27,197]\u001b[0m Trial 47 finished with value: 0.6840244262779474 and parameters: {'classifier__n_estimators': 800, 'classifier__max_depth': 18, 'classifier__min_samples_split': 2, 'classifier__min_samples_leaf': 2}. Best is trial 21 with value: 0.6952723333005023.\u001b[0m\n",
            "\u001b[32m[I 2024-08-08 14:06:39,168]\u001b[0m Trial 48 finished with value: 0.686841327686398 and parameters: {'classifier__n_estimators': 600, 'classifier__max_depth': 18, 'classifier__min_samples_split': 2, 'classifier__min_samples_leaf': 6}. Best is trial 21 with value: 0.6952723333005023.\u001b[0m\n",
            "\u001b[32m[I 2024-08-08 14:06:45,865]\u001b[0m Trial 50 finished with value: 0.6769624741455728 and parameters: {'classifier__n_estimators': 600, 'classifier__max_depth': 12, 'classifier__min_samples_split': 2, 'classifier__min_samples_leaf': 2}. Best is trial 21 with value: 0.6952723333005023.\u001b[0m\n",
            "\u001b[32m[I 2024-08-08 14:06:45,946]\u001b[0m Trial 49 finished with value: 0.6769821727568206 and parameters: {'classifier__n_estimators': 600, 'classifier__max_depth': 14, 'classifier__min_samples_split': 2, 'classifier__min_samples_leaf': 2}. Best is trial 21 with value: 0.6952723333005023.\u001b[0m\n",
            "\u001b[32m[I 2024-08-08 14:06:46,227]\u001b[0m Trial 51 finished with value: 0.6741652713483699 and parameters: {'classifier__n_estimators': 600, 'classifier__max_depth': 14, 'classifier__min_samples_split': 2, 'classifier__min_samples_leaf': 2}. Best is trial 21 with value: 0.6952723333005023.\u001b[0m\n",
            "\u001b[32m[I 2024-08-08 14:06:47,606]\u001b[0m Trial 52 finished with value: 0.6769821727568206 and parameters: {'classifier__n_estimators': 600, 'classifier__max_depth': 14, 'classifier__min_samples_split': 12, 'classifier__min_samples_leaf': 2}. Best is trial 21 with value: 0.6952723333005023.\u001b[0m\n",
            "\u001b[32m[I 2024-08-08 14:06:48,600]\u001b[0m Trial 53 finished with value: 0.6713483699399192 and parameters: {'classifier__n_estimators': 600, 'classifier__max_depth': 14, 'classifier__min_samples_split': 10, 'classifier__min_samples_leaf': 2}. Best is trial 21 with value: 0.6952723333005023.\u001b[0m\n",
            "\u001b[32m[I 2024-08-08 14:06:54,305]\u001b[0m Trial 54 finished with value: 0.6558652614990643 and parameters: {'classifier__n_estimators': 600, 'classifier__max_depth': 14, 'classifier__min_samples_split': 6, 'classifier__min_samples_leaf': 2}. Best is trial 21 with value: 0.6952723333005023.\u001b[0m\n",
            "\u001b[32m[I 2024-08-08 14:07:00,048]\u001b[0m Trial 55 finished with value: 0.6629469122426869 and parameters: {'classifier__n_estimators': 600, 'classifier__max_depth': 14, 'classifier__min_samples_split': 12, 'classifier__min_samples_leaf': 13}. Best is trial 21 with value: 0.6952723333005023.\u001b[0m\n",
            "\u001b[32m[I 2024-08-08 14:07:08,217]\u001b[0m Trial 56 finished with value: 0.6460750517088545 and parameters: {'classifier__n_estimators': 600, 'classifier__max_depth': 14, 'classifier__min_samples_split': 10, 'classifier__min_samples_leaf': 14}. Best is trial 21 with value: 0.6952723333005023.\u001b[0m\n",
            "\u001b[32m[I 2024-08-08 14:07:13,718]\u001b[0m Trial 57 finished with value: 0.6600906136117404 and parameters: {'classifier__n_estimators': 500, 'classifier__max_depth': 16, 'classifier__min_samples_split': 10, 'classifier__min_samples_leaf': 14}. Best is trial 21 with value: 0.6952723333005023.\u001b[0m\n",
            "\u001b[32m[I 2024-08-08 14:07:14,702]\u001b[0m Trial 60 finished with value: 0.6460553530976066 and parameters: {'classifier__n_estimators': 500, 'classifier__max_depth': 28, 'classifier__min_samples_split': 10, 'classifier__min_samples_leaf': 14}. Best is trial 21 with value: 0.6952723333005023.\u001b[0m\n",
            "\u001b[32m[I 2024-08-08 14:07:15,784]\u001b[0m Trial 61 finished with value: 0.6502807052102828 and parameters: {'classifier__n_estimators': 500, 'classifier__max_depth': 28, 'classifier__min_samples_split': 14, 'classifier__min_samples_leaf': 14}. Best is trial 21 with value: 0.6952723333005023.\u001b[0m\n",
            "\u001b[32m[I 2024-08-08 14:07:15,867]\u001b[0m Trial 58 finished with value: 0.6530483600906136 and parameters: {'classifier__n_estimators': 500, 'classifier__max_depth': 14, 'classifier__min_samples_split': 12, 'classifier__min_samples_leaf': 2}. Best is trial 21 with value: 0.6952723333005023.\u001b[0m\n",
            "\u001b[32m[I 2024-08-08 14:07:16,822]\u001b[0m Trial 59 finished with value: 0.6530483600906136 and parameters: {'classifier__n_estimators': 500, 'classifier__max_depth': 28, 'classifier__min_samples_split': 12, 'classifier__min_samples_leaf': 2}. Best is trial 21 with value: 0.6952723333005023.\u001b[0m\n",
            "\u001b[32m[I 2024-08-08 14:07:25,720]\u001b[0m Trial 62 finished with value: 0.651689155914508 and parameters: {'classifier__n_estimators': 500, 'classifier__max_depth': 28, 'classifier__min_samples_split': 12, 'classifier__min_samples_leaf': 14}. Best is trial 21 with value: 0.6952723333005023.\u001b[0m\n",
            "\u001b[32m[I 2024-08-08 14:07:34,400]\u001b[0m Trial 63 finished with value: 0.6728159164778884 and parameters: {'classifier__n_estimators': 500, 'classifier__max_depth': 22, 'classifier__min_samples_split': 10, 'classifier__min_samples_leaf': 16}. Best is trial 21 with value: 0.6952723333005023.\u001b[0m\n",
            "\u001b[32m[I 2024-08-08 14:07:44,107]\u001b[0m Trial 64 finished with value: 0.6840638235004433 and parameters: {'classifier__n_estimators': 500, 'classifier__max_depth': 22, 'classifier__min_samples_split': 6, 'classifier__min_samples_leaf': 16}. Best is trial 21 with value: 0.6952723333005023.\u001b[0m\n",
            "\u001b[32m[I 2024-08-08 14:07:56,029]\u001b[0m Trial 65 finished with value: 0.6938737319019009 and parameters: {'classifier__n_estimators': 500, 'classifier__max_depth': 28, 'classifier__min_samples_split': 14, 'classifier__min_samples_leaf': 8}. Best is trial 21 with value: 0.6952723333005023.\u001b[0m\n",
            "\u001b[32m[I 2024-08-08 14:07:58,069]\u001b[0m Trial 66 finished with value: 0.6910568304934502 and parameters: {'classifier__n_estimators': 700, 'classifier__max_depth': 22, 'classifier__min_samples_split': 14, 'classifier__min_samples_leaf': 9}. Best is trial 21 with value: 0.6952723333005023.\u001b[0m\n",
            "\u001b[32m[I 2024-08-08 14:08:00,458]\u001b[0m Trial 67 finished with value: 0.6896582290948488 and parameters: {'classifier__n_estimators': 700, 'classifier__max_depth': 22, 'classifier__min_samples_split': 8, 'classifier__min_samples_leaf': 1}. Best is trial 21 with value: 0.6952723333005023.\u001b[0m\n",
            "\u001b[32m[I 2024-08-08 14:08:00,489]\u001b[0m Trial 68 finished with value: 0.6924751305032995 and parameters: {'classifier__n_estimators': 700, 'classifier__max_depth': 22, 'classifier__min_samples_split': 8, 'classifier__min_samples_leaf': 1}. Best is trial 21 with value: 0.6952723333005023.\u001b[0m\n",
            "\u001b[32m[I 2024-08-08 14:08:00,668]\u001b[0m Trial 69 finished with value: 0.686841327686398 and parameters: {'classifier__n_estimators': 700, 'classifier__max_depth': 22, 'classifier__min_samples_split': 4, 'classifier__min_samples_leaf': 1}. Best is trial 21 with value: 0.6952723333005023.\u001b[0m\n",
            "\u001b[32m[I 2024-08-08 14:08:10,693]\u001b[0m Trial 70 finished with value: 0.6924554318920516 and parameters: {'classifier__n_estimators': 700, 'classifier__max_depth': 22, 'classifier__min_samples_split': 8, 'classifier__min_samples_leaf': 1}. Best is trial 21 with value: 0.6952723333005023.\u001b[0m\n",
            "\u001b[32m[I 2024-08-08 14:08:20,588]\u001b[0m Trial 71 finished with value: 0.6882300797793757 and parameters: {'classifier__n_estimators': 700, 'classifier__max_depth': 22, 'classifier__min_samples_split': 8, 'classifier__min_samples_leaf': 1}. Best is trial 21 with value: 0.6952723333005023.\u001b[0m\n",
            "\u001b[32m[I 2024-08-08 14:08:35,783]\u001b[0m Trial 72 finished with value: 0.678390623461046 and parameters: {'classifier__n_estimators': 1000, 'classifier__max_depth': 26, 'classifier__min_samples_split': 4, 'classifier__min_samples_leaf': 1}. Best is trial 21 with value: 0.6952723333005023.\u001b[0m\n",
            "\u001b[32m[I 2024-08-08 14:08:39,566]\u001b[0m Trial 73 finished with value: 0.682615975573722 and parameters: {'classifier__n_estimators': 700, 'classifier__max_depth': 30, 'classifier__min_samples_split': 16, 'classifier__min_samples_leaf': 9}. Best is trial 21 with value: 0.6952723333005023.\u001b[0m\n",
            "\u001b[32m[I 2024-08-08 14:08:41,879]\u001b[0m Trial 74 finished with value: 0.6924455825864276 and parameters: {'classifier__n_estimators': 700, 'classifier__max_depth': 30, 'classifier__min_samples_split': 16, 'classifier__min_samples_leaf': 9}. Best is trial 21 with value: 0.6952723333005023.\u001b[0m\n",
            "\u001b[32m[I 2024-08-08 14:08:46,432]\u001b[0m Trial 77 finished with value: 0.6896286811779769 and parameters: {'classifier__n_estimators': 1000, 'classifier__max_depth': 30, 'classifier__min_samples_split': 16, 'classifier__min_samples_leaf': 12}. Best is trial 21 with value: 0.6952723333005023.\u001b[0m\n",
            "\u001b[32m[I 2024-08-08 14:08:50,611]\u001b[0m Trial 75 finished with value: 0.6854131783709249 and parameters: {'classifier__n_estimators': 1000, 'classifier__max_depth': 30, 'classifier__min_samples_split': 4, 'classifier__min_samples_leaf': 11}. Best is trial 21 with value: 0.6952723333005023.\u001b[0m\n",
            "\u001b[32m[I 2024-08-08 14:08:51,146]\u001b[0m Trial 76 finished with value: 0.6882300797793756 and parameters: {'classifier__n_estimators': 1000, 'classifier__max_depth': 26, 'classifier__min_samples_split': 4, 'classifier__min_samples_leaf': 1}. Best is trial 21 with value: 0.6952723333005023.\u001b[0m\n",
            "\u001b[32m[I 2024-08-08 14:08:56,273]\u001b[0m Trial 78 finished with value: 0.6868117797695262 and parameters: {'classifier__n_estimators': 800, 'classifier__max_depth': 30, 'classifier__min_samples_split': 16, 'classifier__min_samples_leaf': 10}. Best is trial 21 with value: 0.6952723333005023.\u001b[0m\n",
            "\u001b[32m[I 2024-08-08 14:09:04,100]\u001b[0m Trial 79 finished with value: 0.6868117797695262 and parameters: {'classifier__n_estimators': 800, 'classifier__max_depth': 30, 'classifier__min_samples_split': 6, 'classifier__min_samples_leaf': 10}. Best is trial 21 with value: 0.6952723333005023.\u001b[0m\n",
            "\u001b[32m[I 2024-08-08 14:09:21,799]\u001b[0m Trial 80 finished with value: 0.6882202304737517 and parameters: {'classifier__n_estimators': 800, 'classifier__max_depth': 30, 'classifier__min_samples_split': 6, 'classifier__min_samples_leaf': 10}. Best is trial 21 with value: 0.6952723333005023.\u001b[0m\n",
            "\u001b[32m[I 2024-08-08 14:09:27,006]\u001b[0m Trial 81 finished with value: 0.6840145769723234 and parameters: {'classifier__n_estimators': 800, 'classifier__max_depth': 24, 'classifier__min_samples_split': 6, 'classifier__min_samples_leaf': 10}. Best is trial 21 with value: 0.6952723333005023.\u001b[0m\n",
            "\u001b[32m[I 2024-08-08 14:09:29,425]\u001b[0m Trial 82 finished with value: 0.6868117797695262 and parameters: {'classifier__n_estimators': 800, 'classifier__max_depth': 30, 'classifier__min_samples_split': 16, 'classifier__min_samples_leaf': 10}. Best is trial 21 with value: 0.6952723333005023.\u001b[0m\n",
            "\u001b[32m[I 2024-08-08 14:09:33,405]\u001b[0m Trial 83 finished with value: 0.6854328769821727 and parameters: {'classifier__n_estimators': 800, 'classifier__max_depth': 26, 'classifier__min_samples_split': 16, 'classifier__min_samples_leaf': 7}. Best is trial 21 with value: 0.6952723333005023.\u001b[0m\n",
            "\u001b[32m[I 2024-08-08 14:09:37,851]\u001b[0m Trial 85 finished with value: 0.682615975573722 and parameters: {'classifier__n_estimators': 800, 'classifier__max_depth': 10, 'classifier__min_samples_split': 16, 'classifier__min_samples_leaf': 8}. Best is trial 21 with value: 0.6952723333005023.\u001b[0m\n",
            "\u001b[32m[I 2024-08-08 14:09:38,909]\u001b[0m Trial 84 finished with value: 0.682615975573722 and parameters: {'classifier__n_estimators': 800, 'classifier__max_depth': 26, 'classifier__min_samples_split': 6, 'classifier__min_samples_leaf': 7}. Best is trial 21 with value: 0.6952723333005023.\u001b[0m\n",
            "\u001b[32m[I 2024-08-08 14:09:40,396]\u001b[0m Trial 86 finished with value: 0.6769624741455728 and parameters: {'classifier__n_estimators': 800, 'classifier__max_depth': 10, 'classifier__min_samples_split': 6, 'classifier__min_samples_leaf': 7}. Best is trial 21 with value: 0.6952723333005023.\u001b[0m\n",
            "\u001b[32m[I 2024-08-08 14:09:46,018]\u001b[0m Trial 87 finished with value: 0.6811878262582488 and parameters: {'classifier__n_estimators': 800, 'classifier__max_depth': 10, 'classifier__min_samples_split': 14, 'classifier__min_samples_leaf': 8}. Best is trial 21 with value: 0.6952723333005023.\u001b[0m\n",
            "\u001b[32m[I 2024-08-08 14:10:00,430]\u001b[0m Trial 88 finished with value: 0.6713483699399192 and parameters: {'classifier__n_estimators': 700, 'classifier__max_depth': 24, 'classifier__min_samples_split': 14, 'classifier__min_samples_leaf': 12}. Best is trial 21 with value: 0.6952723333005023.\u001b[0m\n",
            "\u001b[32m[I 2024-08-08 14:10:07,091]\u001b[0m Trial 89 finished with value: 0.6797793755540236 and parameters: {'classifier__n_estimators': 700, 'classifier__max_depth': 26, 'classifier__min_samples_split': 14, 'classifier__min_samples_leaf': 7}. Best is trial 21 with value: 0.6952723333005023.\u001b[0m\n",
            "\u001b[32m[I 2024-08-08 14:10:09,845]\u001b[0m Trial 90 finished with value: 0.6741357234314981 and parameters: {'classifier__n_estimators': 700, 'classifier__max_depth': 20, 'classifier__min_samples_split': 14, 'classifier__min_samples_leaf': 12}. Best is trial 21 with value: 0.6952723333005023.\u001b[0m\n",
            "\u001b[32m[I 2024-08-08 14:10:13,372]\u001b[0m Trial 91 finished with value: 0.67416527134837 and parameters: {'classifier__n_estimators': 700, 'classifier__max_depth': 20, 'classifier__min_samples_split': 8, 'classifier__min_samples_leaf': 8}. Best is trial 21 with value: 0.6952723333005023.\u001b[0m\n",
            "\u001b[32m[I 2024-08-08 14:10:17,099]\u001b[0m Trial 92 finished with value: 0.6882300797793756 and parameters: {'classifier__n_estimators': 700, 'classifier__max_depth': 20, 'classifier__min_samples_split': 8, 'classifier__min_samples_leaf': 7}. Best is trial 21 with value: 0.6952723333005023.\u001b[0m\n",
            "\u001b[32m[I 2024-08-08 14:10:18,247]\u001b[0m Trial 94 finished with value: 0.6812075248694967 and parameters: {'classifier__n_estimators': 700, 'classifier__max_depth': 2, 'classifier__min_samples_split': 2, 'classifier__min_samples_leaf': 12}. Best is trial 21 with value: 0.6952723333005023.\u001b[0m\n",
            "\u001b[32m[I 2024-08-08 14:10:18,424]\u001b[0m Trial 97 finished with value: 0.698089234708953 and parameters: {'classifier__n_estimators': 100, 'classifier__max_depth': 16, 'classifier__min_samples_split': 2, 'classifier__min_samples_leaf': 1}. Best is trial 97 with value: 0.698089234708953.\u001b[0m\n",
            "\u001b[32m[I 2024-08-08 14:10:19,309]\u001b[0m Trial 93 finished with value: 0.6882300797793756 and parameters: {'classifier__n_estimators': 700, 'classifier__max_depth': 16, 'classifier__min_samples_split': 8, 'classifier__min_samples_leaf': 1}. Best is trial 97 with value: 0.698089234708953.\u001b[0m\n",
            "\u001b[32m[I 2024-08-08 14:10:21,195]\u001b[0m Trial 95 finished with value: 0.6924751305032995 and parameters: {'classifier__n_estimators': 700, 'classifier__max_depth': 20, 'classifier__min_samples_split': 2, 'classifier__min_samples_leaf': 12}. Best is trial 97 with value: 0.698089234708953.\u001b[0m\n",
            "\u001b[32m[I 2024-08-08 14:10:23,917]\u001b[0m Trial 96 finished with value: 0.6854131783709249 and parameters: {'classifier__n_estimators': 700, 'classifier__max_depth': 16, 'classifier__min_samples_split': 2, 'classifier__min_samples_leaf': 1}. Best is trial 97 with value: 0.698089234708953.\u001b[0m\n",
            "\u001b[32m[I 2024-08-08 14:10:26,722]\u001b[0m Trial 98 finished with value: 0.6924455825864276 and parameters: {'classifier__n_estimators': 600, 'classifier__max_depth': 16, 'classifier__min_samples_split': 2, 'classifier__min_samples_leaf': 9}. Best is trial 97 with value: 0.698089234708953.\u001b[0m\n",
            "\u001b[32m[I 2024-08-08 14:10:26,998]\u001b[0m Trial 99 finished with value: 0.6868117797695262 and parameters: {'classifier__n_estimators': 600, 'classifier__max_depth': 16, 'classifier__min_samples_split': 2, 'classifier__min_samples_leaf': 9}. Best is trial 97 with value: 0.698089234708953.\u001b[0m\n"
          ]
        },
        {
          "name": "stdout",
          "output_type": "stream",
          "text": [
            "Best hyperparameters found:  {'classifier__n_estimators': 100, 'classifier__max_depth': 16, 'classifier__min_samples_split': 2, 'classifier__min_samples_leaf': 1}\n"
          ]
        }
      ],
      "execution_count": null
    },
    {
      "metadata": {
        "ExecuteTime": {
          "end_time": "2024-08-08T08:11:52.915523Z",
          "start_time": "2024-08-08T08:11:51.743226Z"
        },
        "id": "95pjKQwgMSlJ",
        "outputId": "1723dba3-636e-4d3c-95a3-ce9efe940cf3"
      },
      "cell_type": "code",
      "source": [
        "pipeline.fit(X_train, y_train)\n",
        "y_pred = pipeline.predict(X_test)\n",
        "accuracy = accuracy_score(y_test, y_pred)\n",
        "print(f'Accuracy: {accuracy:.2f}')"
      ],
      "outputs": [
        {
          "name": "stdout",
          "output_type": "stream",
          "text": [
            "Accuracy: 0.69\n"
          ]
        }
      ],
      "execution_count": null
    },
    {
      "cell_type": "code",
      "metadata": {
        "ExecuteTime": {
          "end_time": "2024-08-08T07:58:21.484801Z",
          "start_time": "2024-08-08T07:53:51.240394Z"
        },
        "id": "Vw3W4dmUMSlK",
        "outputId": "a86ef43c-a0f6-410a-c86e-59287a304eda"
      },
      "source": [
        "from sklearn.model_selection import GridSearchCV\n",
        "grid = GridSearchCV(estimator=pipeline, param_grid=param_grid, cv=5, scoring='accuracy', n_jobs=-1, verbose=2)\n",
        "\n",
        "# Fit the GridSearchCV to the data\n",
        "grid.fit(X_train, y_train)\n",
        "\n",
        "print(\"Best parameters found: \", grid.best_params_)\n",
        "\n",
        "best_model = grid.best_estimator_\n",
        "\n",
        "y_pred = best_model.predict(X_test)\n",
        "accuracy = accuracy_score(y_test, y_pred)\n",
        "print(f'Accuracy: {accuracy:.2f}')"
      ],
      "outputs": [
        {
          "name": "stdout",
          "output_type": "stream",
          "text": [
            "Fitting 5 folds for each of 648 candidates, totalling 3240 fits\n",
            "Best parameters found:  {'classifier__bootstrap': True, 'classifier__max_depth': None, 'classifier__max_features': 'auto', 'classifier__min_samples_leaf': 1, 'classifier__min_samples_split': 10, 'classifier__n_estimators': 300}\n",
            "Accuracy: 0.69\n"
          ]
        }
      ],
      "execution_count": null
    },
    {
      "cell_type": "code",
      "metadata": {
        "ExecuteTime": {
          "end_time": "2024-08-08T07:58:29.986789Z",
          "start_time": "2024-08-08T07:58:29.960567Z"
        },
        "id": "ZLWYI3X2MSlM",
        "outputId": "40456d58-0445-4364-bbcf-98c61993a4a0"
      },
      "source": [
        "grid.best_score_"
      ],
      "outputs": [
        {
          "data": {
            "text/plain": [
              "0.6952723333005023"
            ]
          },
          "execution_count": 66,
          "metadata": {},
          "output_type": "execute_result"
        }
      ],
      "execution_count": null
    },
    {
      "cell_type": "code",
      "metadata": {
        "ExecuteTime": {
          "end_time": "2024-08-08T07:58:35.035643Z",
          "start_time": "2024-08-08T07:58:35.022963Z"
        },
        "id": "CmTNAcovMSlN",
        "outputId": "c05c748a-e716-45a3-f8b5-1450e2370b8b"
      },
      "source": [
        "grid.best_params_"
      ],
      "outputs": [
        {
          "data": {
            "text/plain": [
              "{'classifier__bootstrap': True,\n",
              " 'classifier__max_depth': None,\n",
              " 'classifier__max_features': 'auto',\n",
              " 'classifier__min_samples_leaf': 1,\n",
              " 'classifier__min_samples_split': 10,\n",
              " 'classifier__n_estimators': 300}"
            ]
          },
          "execution_count": 67,
          "metadata": {},
          "output_type": "execute_result"
        }
      ],
      "execution_count": null
    },
    {
      "metadata": {
        "ExecuteTime": {
          "end_time": "2024-08-08T07:59:37.344554Z",
          "start_time": "2024-08-08T07:59:37.245426Z"
        },
        "id": "ggjo6ychMSlN",
        "outputId": "f4c702f7-faf5-4fb1-ffb6-19d67043db5d"
      },
      "cell_type": "code",
      "source": [
        "best_model = grid.best_estimator_\n",
        "y_pred = best_model.predict(X_test)\n",
        "accuracy = accuracy_score(y_test, y_pred)\n",
        "print(f'Accuracy: {accuracy:.2f}')"
      ],
      "outputs": [
        {
          "name": "stdout",
          "output_type": "stream",
          "text": [
            "Accuracy: 0.69\n"
          ]
        }
      ],
      "execution_count": null
    },
    {
      "cell_type": "code",
      "metadata": {
        "ExecuteTime": {
          "end_time": "2024-08-08T08:00:41.801235Z",
          "start_time": "2024-08-08T08:00:41.777657Z"
        },
        "id": "PU9KFznXMSlO"
      },
      "source": [
        "# export\n",
        "import pickle\n",
        "pickle.dump(pipeline,open('random classifier using pipeline.pkl','wb'))"
      ],
      "outputs": [],
      "execution_count": null
    },
    {
      "cell_type": "code",
      "execution_count": null,
      "metadata": {
        "id": "wVJafv7zMSlP"
      },
      "outputs": [],
      "source": []
    }
  ],
  "metadata": {
    "kernelspec": {
      "display_name": "Python 3",
      "language": "python",
      "name": "python3"
    },
    "language_info": {
      "codemirror_mode": {
        "name": "ipython",
        "version": 3
      },
      "file_extension": ".py",
      "mimetype": "text/x-python",
      "name": "python",
      "nbconvert_exporter": "python",
      "pygments_lexer": "ipython3",
      "version": "3.8.3"
    },
    "colab": {
      "provenance": []
    }
  },
  "nbformat": 4,
  "nbformat_minor": 0
}